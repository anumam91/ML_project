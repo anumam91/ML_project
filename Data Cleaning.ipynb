{
 "cells": [
  {
   "cell_type": "code",
   "execution_count": 1,
   "metadata": {},
   "outputs": [],
   "source": [
    "#Import Dependencies\n",
    "import pandas as pd\n",
    "import numpy as np"
   ]
  },
  {
   "cell_type": "code",
   "execution_count": 2,
   "metadata": {},
   "outputs": [
    {
     "name": "stderr",
     "output_type": "stream",
     "text": [
      "C:\\Users\\shwet\\Anaconda3\\lib\\site-packages\\IPython\\core\\interactiveshell.py:2785: DtypeWarning: Columns (57,59,60,61) have mixed types. Specify dtype option on import or set low_memory=False.\n",
      "  interactivity=interactivity, compiler=compiler, result=result)\n"
     ]
    },
    {
     "data": {
      "text/html": [
       "<div>\n",
       "<style scoped>\n",
       "    .dataframe tbody tr th:only-of-type {\n",
       "        vertical-align: middle;\n",
       "    }\n",
       "\n",
       "    .dataframe tbody tr th {\n",
       "        vertical-align: top;\n",
       "    }\n",
       "\n",
       "    .dataframe thead th {\n",
       "        text-align: right;\n",
       "    }\n",
       "</style>\n",
       "<table border=\"1\" class=\"dataframe\">\n",
       "  <thead>\n",
       "    <tr style=\"text-align: right;\">\n",
       "      <th></th>\n",
       "      <th>FID</th>\n",
       "      <th>MOID</th>\n",
       "      <th>DIAMETER</th>\n",
       "      <th>PIPE_LENGTH</th>\n",
       "      <th>MATERIAL</th>\n",
       "      <th>DESCRIPTION</th>\n",
       "      <th>YEAR_INSTALLED</th>\n",
       "      <th>PRESSURE_ZONE</th>\n",
       "      <th>LINING</th>\n",
       "      <th>LINE_YEAR</th>\n",
       "      <th>...</th>\n",
       "      <th>WORK_ORDER_NUMBER</th>\n",
       "      <th>Comments</th>\n",
       "      <th>ReportDate</th>\n",
       "      <th>StartDateT</th>\n",
       "      <th>CompletedD</th>\n",
       "      <th>ReportedY</th>\n",
       "      <th>SrvcRqst_1</th>\n",
       "      <th>MATERIAL_1</th>\n",
       "      <th>MUSYM</th>\n",
       "      <th>FAILURE</th>\n",
       "    </tr>\n",
       "  </thead>\n",
       "  <tbody>\n",
       "    <tr>\n",
       "      <th>0</th>\n",
       "      <td>16420</td>\n",
       "      <td>P35881</td>\n",
       "      <td>8.0</td>\n",
       "      <td>861.090481</td>\n",
       "      <td>M.J.</td>\n",
       "      <td>Distribution</td>\n",
       "      <td>1952</td>\n",
       "      <td>Hemp 1175</td>\n",
       "      <td></td>\n",
       "      <td>0</td>\n",
       "      <td>...</td>\n",
       "      <td>1143689</td>\n",
       "      <td>PER UNIT 819\\n\\rREQUEST 1 6X12 PLATE AND 4 BAG...</td>\n",
       "      <td>2014-10-25</td>\n",
       "      <td>2014-11-16</td>\n",
       "      <td>2014-11-16</td>\n",
       "      <td>2014</td>\n",
       "      <td>Water Request</td>\n",
       "      <td>CAS</td>\n",
       "      <td>Ub</td>\n",
       "      <td>1</td>\n",
       "    </tr>\n",
       "    <tr>\n",
       "      <th>1</th>\n",
       "      <td>44465</td>\n",
       "      <td>P88079</td>\n",
       "      <td>8.0</td>\n",
       "      <td>749.511184</td>\n",
       "      <td>TYT</td>\n",
       "      <td>Distribution</td>\n",
       "      <td>1965</td>\n",
       "      <td>Hemp 1175</td>\n",
       "      <td></td>\n",
       "      <td>0</td>\n",
       "      <td>...</td>\n",
       "      <td>1311148</td>\n",
       "      <td>MAIN BREAK</td>\n",
       "      <td>2015-08-18</td>\n",
       "      <td>2015-08-18</td>\n",
       "      <td>2015-08-18</td>\n",
       "      <td>2015</td>\n",
       "      <td>Water Request</td>\n",
       "      <td>DIP</td>\n",
       "      <td>ReD</td>\n",
       "      <td>1</td>\n",
       "    </tr>\n",
       "    <tr>\n",
       "      <th>2</th>\n",
       "      <td>23810</td>\n",
       "      <td>P53764</td>\n",
       "      <td>8.0</td>\n",
       "      <td>171.554040</td>\n",
       "      <td>M.J.</td>\n",
       "      <td>Distribution</td>\n",
       "      <td>1958</td>\n",
       "      <td>Hemp 1175</td>\n",
       "      <td></td>\n",
       "      <td>0</td>\n",
       "      <td>...</td>\n",
       "      <td>1323748</td>\n",
       "      <td>PER JONATHAN WEBB THERE IS A MAIN BREAK AT THI...</td>\n",
       "      <td>2015-09-11</td>\n",
       "      <td>2015-09-12</td>\n",
       "      <td>2015-09-12</td>\n",
       "      <td>2015</td>\n",
       "      <td>Water Pressure Complaint</td>\n",
       "      <td>DIP</td>\n",
       "      <td>Ub</td>\n",
       "      <td>1</td>\n",
       "    </tr>\n",
       "    <tr>\n",
       "      <th>3</th>\n",
       "      <td>52630</td>\n",
       "      <td>P400741</td>\n",
       "      <td>8.0</td>\n",
       "      <td>42.761097</td>\n",
       "      <td>M.J.</td>\n",
       "      <td>Distribution</td>\n",
       "      <td>1958</td>\n",
       "      <td>Hemp 1175</td>\n",
       "      <td></td>\n",
       "      <td>0</td>\n",
       "      <td>...</td>\n",
       "      <td>1323748</td>\n",
       "      <td>PER JONATHAN WEBB THERE IS A MAIN BREAK AT THI...</td>\n",
       "      <td>2015-09-11</td>\n",
       "      <td>2015-09-12</td>\n",
       "      <td>2015-09-12</td>\n",
       "      <td>2015</td>\n",
       "      <td>Water Pressure Complaint</td>\n",
       "      <td>DIP</td>\n",
       "      <td>Ub</td>\n",
       "      <td>1</td>\n",
       "    </tr>\n",
       "    <tr>\n",
       "      <th>4</th>\n",
       "      <td>10510</td>\n",
       "      <td>P20210</td>\n",
       "      <td>12.0</td>\n",
       "      <td>31.300481</td>\n",
       "      <td>DIP</td>\n",
       "      <td>Transmission</td>\n",
       "      <td>2006</td>\n",
       "      <td>Hemp 1175</td>\n",
       "      <td></td>\n",
       "      <td>0</td>\n",
       "      <td>...</td>\n",
       "      <td>1628288</td>\n",
       "      <td>PER J. SKINNER MAIN BREAK AT LOCATION\\nCall ta...</td>\n",
       "      <td>2017-01-22</td>\n",
       "      <td>2017-02-28</td>\n",
       "      <td>2017-02-28</td>\n",
       "      <td>2017</td>\n",
       "      <td>Turn off burst pipe</td>\n",
       "      <td>DIP</td>\n",
       "      <td>Ub</td>\n",
       "      <td>1</td>\n",
       "    </tr>\n",
       "  </tbody>\n",
       "</table>\n",
       "<p>5 rows × 67 columns</p>\n",
       "</div>"
      ],
      "text/plain": [
       "     FID     MOID  DIAMETER  PIPE_LENGTH MATERIAL   DESCRIPTION  \\\n",
       "0  16420   P35881       8.0   861.090481     M.J.  Distribution   \n",
       "1  44465   P88079       8.0   749.511184      TYT  Distribution   \n",
       "2  23810   P53764       8.0   171.554040     M.J.  Distribution   \n",
       "3  52630  P400741       8.0    42.761097     M.J.  Distribution   \n",
       "4  10510   P20210      12.0    31.300481      DIP  Transmission   \n",
       "\n",
       "   YEAR_INSTALLED PRESSURE_ZONE LINING  LINE_YEAR   ...     WORK_ORDER_NUMBER  \\\n",
       "0            1952     Hemp 1175                 0   ...               1143689   \n",
       "1            1965     Hemp 1175                 0   ...               1311148   \n",
       "2            1958     Hemp 1175                 0   ...               1323748   \n",
       "3            1958     Hemp 1175                 0   ...               1323748   \n",
       "4            2006     Hemp 1175                 0   ...               1628288   \n",
       "\n",
       "                                            Comments  ReportDate  StartDateT  \\\n",
       "0  PER UNIT 819\\n\\rREQUEST 1 6X12 PLATE AND 4 BAG...  2014-10-25  2014-11-16   \n",
       "1                                         MAIN BREAK  2015-08-18  2015-08-18   \n",
       "2  PER JONATHAN WEBB THERE IS A MAIN BREAK AT THI...  2015-09-11  2015-09-12   \n",
       "3  PER JONATHAN WEBB THERE IS A MAIN BREAK AT THI...  2015-09-11  2015-09-12   \n",
       "4  PER J. SKINNER MAIN BREAK AT LOCATION\\nCall ta...  2017-01-22  2017-02-28   \n",
       "\n",
       "   CompletedD  ReportedY                SrvcRqst_1  MATERIAL_1  MUSYM  FAILURE  \n",
       "0  2014-11-16       2014             Water Request         CAS     Ub        1  \n",
       "1  2015-08-18       2015             Water Request         DIP    ReD        1  \n",
       "2  2015-09-12       2015  Water Pressure Complaint         DIP     Ub        1  \n",
       "3  2015-09-12       2015  Water Pressure Complaint         DIP     Ub        1  \n",
       "4  2017-02-28       2017       Turn off burst pipe         DIP     Ub        1  \n",
       "\n",
       "[5 rows x 67 columns]"
      ]
     },
     "execution_count": 2,
     "metadata": {},
     "output_type": "execute_result"
    }
   ],
   "source": [
    "#Load in data from csv\n",
    "pipes_df = pd.read_csv(\"Pipe_data.csv\")\n",
    "pipes_df.head()"
   ]
  },
  {
   "cell_type": "code",
   "execution_count": 4,
   "metadata": {},
   "outputs": [
    {
     "name": "stdout",
     "output_type": "stream",
     "text": [
      "There are 23 columns containing strings\n",
      "--------------------------------------------------------------\n",
      "MOID                 object\n",
      "MATERIAL             object\n",
      "DESCRIPTION          object\n",
      "PRESSURE_ZONE        object\n",
      "LINING               object\n",
      "PATTERN1             object\n",
      "PATTERN2             object\n",
      "PATTERN3             object\n",
      "PATTERN4             object\n",
      "PATTERN5             object\n",
      "PATTERN6             object\n",
      "PATTERN7             object\n",
      "PATTERN8             object\n",
      "PATTERN9             object\n",
      "PATTERN10            object\n",
      "WORK_ORDER_NUMBER    object\n",
      "Comments             object\n",
      "ReportDate           object\n",
      "StartDateT           object\n",
      "CompletedD           object\n",
      "SrvcRqst_1           object\n",
      "MATERIAL_1           object\n",
      "MUSYM                object\n",
      "dtype: object\n"
     ]
    }
   ],
   "source": [
    "#clean data by converting all columns with strings to float/int or other type that works in ML \n",
    "\n",
    "#find all columns in dataframe where type = object \n",
    "df_types = pipes_df.select_dtypes(include=[np.object])\n",
    "\n",
    "print(f'There are {len(df_types.dtypes)} columns containing strings')\n",
    "print('--------------------------------------------------------------')\n",
    "print(df_types.dtypes)"
   ]
  },
  {
   "cell_type": "code",
   "execution_count": 5,
   "metadata": {},
   "outputs": [
    {
     "data": {
      "text/html": [
       "<div>\n",
       "<style scoped>\n",
       "    .dataframe tbody tr th:only-of-type {\n",
       "        vertical-align: middle;\n",
       "    }\n",
       "\n",
       "    .dataframe tbody tr th {\n",
       "        vertical-align: top;\n",
       "    }\n",
       "\n",
       "    .dataframe thead th {\n",
       "        text-align: right;\n",
       "    }\n",
       "</style>\n",
       "<table border=\"1\" class=\"dataframe\">\n",
       "  <thead>\n",
       "    <tr style=\"text-align: right;\">\n",
       "      <th></th>\n",
       "      <th>FID</th>\n",
       "      <th>MOID</th>\n",
       "      <th>DIAMETER</th>\n",
       "      <th>PIPE_LENGTH</th>\n",
       "      <th>MATERIAL</th>\n",
       "      <th>DESCRIPTION</th>\n",
       "      <th>YEAR_INSTALLED</th>\n",
       "      <th>PRESSURE_ZONE</th>\n",
       "      <th>LINING</th>\n",
       "      <th>LINE_YEAR</th>\n",
       "      <th>...</th>\n",
       "      <th>DESCRIPTION_Distribution</th>\n",
       "      <th>DESCRIPTION_Experimental Pipe not in CIP</th>\n",
       "      <th>DESCRIPTION_Facility Pipe</th>\n",
       "      <th>DESCRIPTION_Proposed Main: Adamsville</th>\n",
       "      <th>DESCRIPTION_Transmission</th>\n",
       "      <th>P-ZONE_Chatt 1020</th>\n",
       "      <th>P-ZONE_Hemp 1175</th>\n",
       "      <th>P-ZONE_Hemp 1175 (moved)</th>\n",
       "      <th>P-ZONE_North 1225</th>\n",
       "      <th>P-ZONE_WTP</th>\n",
       "    </tr>\n",
       "  </thead>\n",
       "  <tbody>\n",
       "    <tr>\n",
       "      <th>0</th>\n",
       "      <td>16420</td>\n",
       "      <td>P35881</td>\n",
       "      <td>8.0</td>\n",
       "      <td>861.090481</td>\n",
       "      <td>M.J.</td>\n",
       "      <td>Distribution</td>\n",
       "      <td>1952</td>\n",
       "      <td>Hemp 1175</td>\n",
       "      <td></td>\n",
       "      <td>0</td>\n",
       "      <td>...</td>\n",
       "      <td>1</td>\n",
       "      <td>0</td>\n",
       "      <td>0</td>\n",
       "      <td>0</td>\n",
       "      <td>0</td>\n",
       "      <td>0</td>\n",
       "      <td>1</td>\n",
       "      <td>0</td>\n",
       "      <td>0</td>\n",
       "      <td>0</td>\n",
       "    </tr>\n",
       "    <tr>\n",
       "      <th>1</th>\n",
       "      <td>44465</td>\n",
       "      <td>P88079</td>\n",
       "      <td>8.0</td>\n",
       "      <td>749.511184</td>\n",
       "      <td>TYT</td>\n",
       "      <td>Distribution</td>\n",
       "      <td>1965</td>\n",
       "      <td>Hemp 1175</td>\n",
       "      <td></td>\n",
       "      <td>0</td>\n",
       "      <td>...</td>\n",
       "      <td>1</td>\n",
       "      <td>0</td>\n",
       "      <td>0</td>\n",
       "      <td>0</td>\n",
       "      <td>0</td>\n",
       "      <td>0</td>\n",
       "      <td>1</td>\n",
       "      <td>0</td>\n",
       "      <td>0</td>\n",
       "      <td>0</td>\n",
       "    </tr>\n",
       "    <tr>\n",
       "      <th>2</th>\n",
       "      <td>23810</td>\n",
       "      <td>P53764</td>\n",
       "      <td>8.0</td>\n",
       "      <td>171.554040</td>\n",
       "      <td>M.J.</td>\n",
       "      <td>Distribution</td>\n",
       "      <td>1958</td>\n",
       "      <td>Hemp 1175</td>\n",
       "      <td></td>\n",
       "      <td>0</td>\n",
       "      <td>...</td>\n",
       "      <td>1</td>\n",
       "      <td>0</td>\n",
       "      <td>0</td>\n",
       "      <td>0</td>\n",
       "      <td>0</td>\n",
       "      <td>0</td>\n",
       "      <td>1</td>\n",
       "      <td>0</td>\n",
       "      <td>0</td>\n",
       "      <td>0</td>\n",
       "    </tr>\n",
       "    <tr>\n",
       "      <th>3</th>\n",
       "      <td>52630</td>\n",
       "      <td>P400741</td>\n",
       "      <td>8.0</td>\n",
       "      <td>42.761097</td>\n",
       "      <td>M.J.</td>\n",
       "      <td>Distribution</td>\n",
       "      <td>1958</td>\n",
       "      <td>Hemp 1175</td>\n",
       "      <td></td>\n",
       "      <td>0</td>\n",
       "      <td>...</td>\n",
       "      <td>1</td>\n",
       "      <td>0</td>\n",
       "      <td>0</td>\n",
       "      <td>0</td>\n",
       "      <td>0</td>\n",
       "      <td>0</td>\n",
       "      <td>1</td>\n",
       "      <td>0</td>\n",
       "      <td>0</td>\n",
       "      <td>0</td>\n",
       "    </tr>\n",
       "    <tr>\n",
       "      <th>4</th>\n",
       "      <td>10510</td>\n",
       "      <td>P20210</td>\n",
       "      <td>12.0</td>\n",
       "      <td>31.300481</td>\n",
       "      <td>DIP</td>\n",
       "      <td>Transmission</td>\n",
       "      <td>2006</td>\n",
       "      <td>Hemp 1175</td>\n",
       "      <td></td>\n",
       "      <td>0</td>\n",
       "      <td>...</td>\n",
       "      <td>0</td>\n",
       "      <td>0</td>\n",
       "      <td>0</td>\n",
       "      <td>0</td>\n",
       "      <td>1</td>\n",
       "      <td>0</td>\n",
       "      <td>1</td>\n",
       "      <td>0</td>\n",
       "      <td>0</td>\n",
       "      <td>0</td>\n",
       "    </tr>\n",
       "  </tbody>\n",
       "</table>\n",
       "<p>5 rows × 106 columns</p>\n",
       "</div>"
      ],
      "text/plain": [
       "     FID     MOID  DIAMETER  PIPE_LENGTH MATERIAL   DESCRIPTION  \\\n",
       "0  16420   P35881       8.0   861.090481     M.J.  Distribution   \n",
       "1  44465   P88079       8.0   749.511184      TYT  Distribution   \n",
       "2  23810   P53764       8.0   171.554040     M.J.  Distribution   \n",
       "3  52630  P400741       8.0    42.761097     M.J.  Distribution   \n",
       "4  10510   P20210      12.0    31.300481      DIP  Transmission   \n",
       "\n",
       "   YEAR_INSTALLED PRESSURE_ZONE LINING  LINE_YEAR     ...      \\\n",
       "0            1952     Hemp 1175                 0     ...       \n",
       "1            1965     Hemp 1175                 0     ...       \n",
       "2            1958     Hemp 1175                 0     ...       \n",
       "3            1958     Hemp 1175                 0     ...       \n",
       "4            2006     Hemp 1175                 0     ...       \n",
       "\n",
       "   DESCRIPTION_Distribution  DESCRIPTION_Experimental Pipe not in CIP  \\\n",
       "0                         1                                         0   \n",
       "1                         1                                         0   \n",
       "2                         1                                         0   \n",
       "3                         1                                         0   \n",
       "4                         0                                         0   \n",
       "\n",
       "   DESCRIPTION_Facility Pipe  DESCRIPTION_Proposed Main: Adamsville  \\\n",
       "0                          0                                      0   \n",
       "1                          0                                      0   \n",
       "2                          0                                      0   \n",
       "3                          0                                      0   \n",
       "4                          0                                      0   \n",
       "\n",
       "   DESCRIPTION_Transmission  P-ZONE_Chatt 1020  P-ZONE_Hemp 1175  \\\n",
       "0                         0                  0                 1   \n",
       "1                         0                  0                 1   \n",
       "2                         0                  0                 1   \n",
       "3                         0                  0                 1   \n",
       "4                         1                  0                 1   \n",
       "\n",
       "   P-ZONE_Hemp 1175 (moved)  P-ZONE_North 1225  P-ZONE_WTP  \n",
       "0                         0                  0           0  \n",
       "1                         0                  0           0  \n",
       "2                         0                  0           0  \n",
       "3                         0                  0           0  \n",
       "4                         0                  0           0  \n",
       "\n",
       "[5 rows x 106 columns]"
      ]
     },
     "execution_count": 5,
     "metadata": {},
     "output_type": "execute_result"
    }
   ],
   "source": [
    "#get dummies for columns where applicable--MATERIAL, DESCRIPTION, PRESSURE_ZONE\n",
    "pipes_df = pd.concat([pipes_df, pd.get_dummies(pipes_df['MATERIAL'], prefix='MATERIAL')], axis=1)\n",
    "pipes_df = pd.concat([pipes_df, pd.get_dummies(pipes_df['DESCRIPTION'], prefix='DESCRIPTION')], axis=1); \n",
    "pipes_df = pd.concat([pipes_df, pd.get_dummies(pipes_df['PRESSURE_ZONE'], prefix='P-ZONE')], axis=1); \n",
    "pipes_df.head()"
   ]
  },
  {
   "cell_type": "code",
   "execution_count": 6,
   "metadata": {},
   "outputs": [
    {
     "data": {
      "text/html": [
       "<div>\n",
       "<style scoped>\n",
       "    .dataframe tbody tr th:only-of-type {\n",
       "        vertical-align: middle;\n",
       "    }\n",
       "\n",
       "    .dataframe tbody tr th {\n",
       "        vertical-align: top;\n",
       "    }\n",
       "\n",
       "    .dataframe thead th {\n",
       "        text-align: right;\n",
       "    }\n",
       "</style>\n",
       "<table border=\"1\" class=\"dataframe\">\n",
       "  <thead>\n",
       "    <tr style=\"text-align: right;\">\n",
       "      <th></th>\n",
       "      <th>FID</th>\n",
       "      <th>MOID</th>\n",
       "      <th>DIAMETER</th>\n",
       "      <th>PIPE_LENGTH</th>\n",
       "      <th>YEAR_INSTALLED</th>\n",
       "      <th>LINING</th>\n",
       "      <th>LINE_YEAR</th>\n",
       "      <th>INDEX_YR</th>\n",
       "      <th>ROUGHNESS</th>\n",
       "      <th>FLOW</th>\n",
       "      <th>...</th>\n",
       "      <th>DESCRIPTION_Distribution</th>\n",
       "      <th>DESCRIPTION_Experimental Pipe not in CIP</th>\n",
       "      <th>DESCRIPTION_Facility Pipe</th>\n",
       "      <th>DESCRIPTION_Proposed Main: Adamsville</th>\n",
       "      <th>DESCRIPTION_Transmission</th>\n",
       "      <th>P-ZONE_Chatt 1020</th>\n",
       "      <th>P-ZONE_Hemp 1175</th>\n",
       "      <th>P-ZONE_Hemp 1175 (moved)</th>\n",
       "      <th>P-ZONE_North 1225</th>\n",
       "      <th>P-ZONE_WTP</th>\n",
       "    </tr>\n",
       "  </thead>\n",
       "  <tbody>\n",
       "    <tr>\n",
       "      <th>0</th>\n",
       "      <td>16420</td>\n",
       "      <td>P35881</td>\n",
       "      <td>8.0</td>\n",
       "      <td>861.090481</td>\n",
       "      <td>1952</td>\n",
       "      <td></td>\n",
       "      <td>0</td>\n",
       "      <td>1952</td>\n",
       "      <td>86</td>\n",
       "      <td>23.4711</td>\n",
       "      <td>...</td>\n",
       "      <td>1</td>\n",
       "      <td>0</td>\n",
       "      <td>0</td>\n",
       "      <td>0</td>\n",
       "      <td>0</td>\n",
       "      <td>0</td>\n",
       "      <td>1</td>\n",
       "      <td>0</td>\n",
       "      <td>0</td>\n",
       "      <td>0</td>\n",
       "    </tr>\n",
       "    <tr>\n",
       "      <th>1</th>\n",
       "      <td>44465</td>\n",
       "      <td>P88079</td>\n",
       "      <td>8.0</td>\n",
       "      <td>749.511184</td>\n",
       "      <td>1965</td>\n",
       "      <td></td>\n",
       "      <td>0</td>\n",
       "      <td>1965</td>\n",
       "      <td>122</td>\n",
       "      <td>56.2002</td>\n",
       "      <td>...</td>\n",
       "      <td>1</td>\n",
       "      <td>0</td>\n",
       "      <td>0</td>\n",
       "      <td>0</td>\n",
       "      <td>0</td>\n",
       "      <td>0</td>\n",
       "      <td>1</td>\n",
       "      <td>0</td>\n",
       "      <td>0</td>\n",
       "      <td>0</td>\n",
       "    </tr>\n",
       "    <tr>\n",
       "      <th>2</th>\n",
       "      <td>23810</td>\n",
       "      <td>P53764</td>\n",
       "      <td>8.0</td>\n",
       "      <td>171.554040</td>\n",
       "      <td>1958</td>\n",
       "      <td></td>\n",
       "      <td>0</td>\n",
       "      <td>1958</td>\n",
       "      <td>61</td>\n",
       "      <td>79.6832</td>\n",
       "      <td>...</td>\n",
       "      <td>1</td>\n",
       "      <td>0</td>\n",
       "      <td>0</td>\n",
       "      <td>0</td>\n",
       "      <td>0</td>\n",
       "      <td>0</td>\n",
       "      <td>1</td>\n",
       "      <td>0</td>\n",
       "      <td>0</td>\n",
       "      <td>0</td>\n",
       "    </tr>\n",
       "    <tr>\n",
       "      <th>3</th>\n",
       "      <td>52630</td>\n",
       "      <td>P400741</td>\n",
       "      <td>8.0</td>\n",
       "      <td>42.761097</td>\n",
       "      <td>1958</td>\n",
       "      <td></td>\n",
       "      <td>0</td>\n",
       "      <td>1958</td>\n",
       "      <td>61</td>\n",
       "      <td>79.6832</td>\n",
       "      <td>...</td>\n",
       "      <td>1</td>\n",
       "      <td>0</td>\n",
       "      <td>0</td>\n",
       "      <td>0</td>\n",
       "      <td>0</td>\n",
       "      <td>0</td>\n",
       "      <td>1</td>\n",
       "      <td>0</td>\n",
       "      <td>0</td>\n",
       "      <td>0</td>\n",
       "    </tr>\n",
       "    <tr>\n",
       "      <th>4</th>\n",
       "      <td>10510</td>\n",
       "      <td>P20210</td>\n",
       "      <td>12.0</td>\n",
       "      <td>31.300481</td>\n",
       "      <td>2006</td>\n",
       "      <td></td>\n",
       "      <td>0</td>\n",
       "      <td>2006</td>\n",
       "      <td>139</td>\n",
       "      <td>98.6106</td>\n",
       "      <td>...</td>\n",
       "      <td>0</td>\n",
       "      <td>0</td>\n",
       "      <td>0</td>\n",
       "      <td>0</td>\n",
       "      <td>1</td>\n",
       "      <td>0</td>\n",
       "      <td>1</td>\n",
       "      <td>0</td>\n",
       "      <td>0</td>\n",
       "      <td>0</td>\n",
       "    </tr>\n",
       "  </tbody>\n",
       "</table>\n",
       "<p>5 rows × 103 columns</p>\n",
       "</div>"
      ],
      "text/plain": [
       "     FID     MOID  DIAMETER  PIPE_LENGTH  YEAR_INSTALLED LINING  LINE_YEAR  \\\n",
       "0  16420   P35881       8.0   861.090481            1952                 0   \n",
       "1  44465   P88079       8.0   749.511184            1965                 0   \n",
       "2  23810   P53764       8.0   171.554040            1958                 0   \n",
       "3  52630  P400741       8.0    42.761097            1958                 0   \n",
       "4  10510   P20210      12.0    31.300481            2006                 0   \n",
       "\n",
       "   INDEX_YR  ROUGHNESS     FLOW     ...      DESCRIPTION_Distribution  \\\n",
       "0      1952         86  23.4711     ...                             1   \n",
       "1      1965        122  56.2002     ...                             1   \n",
       "2      1958         61  79.6832     ...                             1   \n",
       "3      1958         61  79.6832     ...                             1   \n",
       "4      2006        139  98.6106     ...                             0   \n",
       "\n",
       "   DESCRIPTION_Experimental Pipe not in CIP  DESCRIPTION_Facility Pipe  \\\n",
       "0                                         0                          0   \n",
       "1                                         0                          0   \n",
       "2                                         0                          0   \n",
       "3                                         0                          0   \n",
       "4                                         0                          0   \n",
       "\n",
       "   DESCRIPTION_Proposed Main: Adamsville  DESCRIPTION_Transmission  \\\n",
       "0                                      0                         0   \n",
       "1                                      0                         0   \n",
       "2                                      0                         0   \n",
       "3                                      0                         0   \n",
       "4                                      0                         1   \n",
       "\n",
       "   P-ZONE_Chatt 1020  P-ZONE_Hemp 1175  P-ZONE_Hemp 1175 (moved)  \\\n",
       "0                  0                 1                         0   \n",
       "1                  0                 1                         0   \n",
       "2                  0                 1                         0   \n",
       "3                  0                 1                         0   \n",
       "4                  0                 1                         0   \n",
       "\n",
       "   P-ZONE_North 1225  P-ZONE_WTP  \n",
       "0                  0           0  \n",
       "1                  0           0  \n",
       "2                  0           0  \n",
       "3                  0           0  \n",
       "4                  0           0  \n",
       "\n",
       "[5 rows x 103 columns]"
      ]
     },
     "execution_count": 6,
     "metadata": {},
     "output_type": "execute_result"
    }
   ],
   "source": [
    "#drop original columns--MATERIAL, DESCRIPTION, PRESSURE_ZONE\n",
    "pipes_df2 = pipes_df.drop(columns={ 'MATERIAL',\n",
    " 'DESCRIPTION',\n",
    " 'PRESSURE_ZONE',})\n",
    "pipes_df2.head()"
   ]
  },
  {
   "cell_type": "code",
   "execution_count": 7,
   "metadata": {},
   "outputs": [
    {
     "data": {
      "text/plain": [
       "RES    55937\n",
       "          75\n",
       "Name: PATTERN1, dtype: int64"
      ]
     },
     "execution_count": 7,
     "metadata": {},
     "output_type": "execute_result"
    }
   ],
   "source": [
    "# Now work on the'PATTERN' columns. There are 10 of them. \n",
    "#check if each pattern column only has 1 value\n",
    "pipes_df2[\"PATTERN1\"].value_counts()"
   ]
  },
  {
   "cell_type": "code",
   "execution_count": 8,
   "metadata": {},
   "outputs": [
    {
     "data": {
      "text/plain": [
       "NON-RES    55937\n",
       "              75\n",
       "Name: PATTERN2, dtype: int64"
      ]
     },
     "execution_count": 8,
     "metadata": {},
     "output_type": "execute_result"
    }
   ],
   "source": [
    "pipes_df2[\"PATTERN2\"].value_counts()"
   ]
  },
  {
   "cell_type": "code",
   "execution_count": 9,
   "metadata": {},
   "outputs": [
    {
     "data": {
      "text/plain": [
       "WHOLE    55937\n",
       "            75\n",
       "Name: PATTERN3, dtype: int64"
      ]
     },
     "execution_count": 9,
     "metadata": {},
     "output_type": "execute_result"
    }
   ],
   "source": [
    "pipes_df2[\"PATTERN3\"].value_counts()"
   ]
  },
  {
   "cell_type": "code",
   "execution_count": 10,
   "metadata": {},
   "outputs": [
    {
     "data": {
      "text/plain": [
       "FLUSH    55937\n",
       "            75\n",
       "Name: PATTERN4, dtype: int64"
      ]
     },
     "execution_count": 10,
     "metadata": {},
     "output_type": "execute_result"
    }
   ],
   "source": [
    "pipes_df2[\"PATTERN4\"].value_counts()"
   ]
  },
  {
   "cell_type": "code",
   "execution_count": 11,
   "metadata": {},
   "outputs": [
    {
     "data": {
      "text/plain": [
       "UFW    55937\n",
       "          75\n",
       "Name: PATTERN5, dtype: int64"
      ]
     },
     "execution_count": 11,
     "metadata": {},
     "output_type": "execute_result"
    }
   ],
   "source": [
    "pipes_df2[\"PATTERN5\"].value_counts()"
   ]
  },
  {
   "cell_type": "code",
   "execution_count": 12,
   "metadata": {},
   "outputs": [
    {
     "data": {
      "text/plain": [
       "RES-DISTR    55937\n",
       "                75\n",
       "Name: PATTERN6, dtype: int64"
      ]
     },
     "execution_count": 12,
     "metadata": {},
     "output_type": "execute_result"
    }
   ],
   "source": [
    "pipes_df2[\"PATTERN6\"].value_counts()"
   ]
  },
  {
   "cell_type": "code",
   "execution_count": 13,
   "metadata": {},
   "outputs": [
    {
     "data": {
      "text/plain": [
       "NON-RES-DISTR    55937\n",
       "                    75\n",
       "Name: PATTERN7, dtype: int64"
      ]
     },
     "execution_count": 13,
     "metadata": {},
     "output_type": "execute_result"
    }
   ],
   "source": [
    "pipes_df2[\"PATTERN7\"].value_counts()"
   ]
  },
  {
   "cell_type": "code",
   "execution_count": 14,
   "metadata": {},
   "outputs": [
    {
     "data": {
      "text/plain": [
       "                56010\n",
       "2030-CWTP-NS        2\n",
       "Name: PATTERN8, dtype: int64"
      ]
     },
     "execution_count": 14,
     "metadata": {},
     "output_type": "execute_result"
    }
   ],
   "source": [
    "pipes_df2[\"PATTERN8\"].value_counts()"
   ]
  },
  {
   "cell_type": "code",
   "execution_count": 15,
   "metadata": {},
   "outputs": [
    {
     "data": {
      "text/plain": [
       "     56012\n",
       "Name: PATTERN9, dtype: int64"
      ]
     },
     "execution_count": 15,
     "metadata": {},
     "output_type": "execute_result"
    }
   ],
   "source": [
    "pipes_df2[\"PATTERN9\"].value_counts()"
   ]
  },
  {
   "cell_type": "code",
   "execution_count": 16,
   "metadata": {},
   "outputs": [
    {
     "data": {
      "text/plain": [
       "     56012\n",
       "Name: PATTERN10, dtype: int64"
      ]
     },
     "execution_count": 16,
     "metadata": {},
     "output_type": "execute_result"
    }
   ],
   "source": [
    "pipes_df2[\"PATTERN10\"].value_counts()"
   ]
  },
  {
   "cell_type": "code",
   "execution_count": 17,
   "metadata": {},
   "outputs": [],
   "source": [
    "#Condense correlating PATTERN + DEMAND columns into 1 column\n",
    "pipes_df2 = pipes_df2.rename(columns={\"DEMAND1\":\"Demand_RES\", \"DEMAND2\":\"Demand_NON-RES\",\"DEMAND3\":\"Demand_WHOLE\",\"DEMAND4\":\"Demand_FLUSH\",\"DEMAND5\":\"Demand_UFW\",\n",
    "                                     \"DEMAND6\":\"Demand_RES-DISTR\",\"DEMAND7\":\"Demand_NON RES-DISTR\",\"DEMAND8\":\"Demand_2030-CWTP-NS\"})\n",
    "\n",
    "#Delete unneeded columns\n",
    "#NOTE to Team: I didn’t see any data at all in the ‘DEMAND9’, ‘PATTERN9’, ‘DEMAND10’, ‘PATTERN10’ columns,so I deleted all of these columns\n",
    "pipes_df3 = pipes_df2.drop(columns={\"PATTERN1\", \"PATTERN2\", \"PATTERN3\", \"PATTERN4\", \"PATTERN5\", \"PATTERN6\", \"PATTERN7\", \"PATTERN8\", \"PATTERN9\", \"PATTERN10\", \"DEMAND9\", \"DEMAND10\"})"
   ]
  },
  {
   "cell_type": "code",
   "execution_count": 18,
   "metadata": {},
   "outputs": [
    {
     "data": {
      "text/html": [
       "<div>\n",
       "<style scoped>\n",
       "    .dataframe tbody tr th:only-of-type {\n",
       "        vertical-align: middle;\n",
       "    }\n",
       "\n",
       "    .dataframe tbody tr th {\n",
       "        vertical-align: top;\n",
       "    }\n",
       "\n",
       "    .dataframe thead th {\n",
       "        text-align: right;\n",
       "    }\n",
       "</style>\n",
       "<table border=\"1\" class=\"dataframe\">\n",
       "  <thead>\n",
       "    <tr style=\"text-align: right;\">\n",
       "      <th></th>\n",
       "      <th>FID</th>\n",
       "      <th>MOID</th>\n",
       "      <th>DIAMETER</th>\n",
       "      <th>PIPE_LENGTH</th>\n",
       "      <th>YEAR_INSTALLED</th>\n",
       "      <th>LINING</th>\n",
       "      <th>LINE_YEAR</th>\n",
       "      <th>INDEX_YR</th>\n",
       "      <th>ROUGHNESS</th>\n",
       "      <th>FLOW</th>\n",
       "      <th>...</th>\n",
       "      <th>DESCRIPTION_Distribution</th>\n",
       "      <th>DESCRIPTION_Experimental Pipe not in CIP</th>\n",
       "      <th>DESCRIPTION_Facility Pipe</th>\n",
       "      <th>DESCRIPTION_Proposed Main: Adamsville</th>\n",
       "      <th>DESCRIPTION_Transmission</th>\n",
       "      <th>P-ZONE_Chatt 1020</th>\n",
       "      <th>P-ZONE_Hemp 1175</th>\n",
       "      <th>P-ZONE_Hemp 1175 (moved)</th>\n",
       "      <th>P-ZONE_North 1225</th>\n",
       "      <th>P-ZONE_WTP</th>\n",
       "    </tr>\n",
       "  </thead>\n",
       "  <tbody>\n",
       "    <tr>\n",
       "      <th>0</th>\n",
       "      <td>16420</td>\n",
       "      <td>P35881</td>\n",
       "      <td>8.0</td>\n",
       "      <td>861.090481</td>\n",
       "      <td>1952</td>\n",
       "      <td></td>\n",
       "      <td>0</td>\n",
       "      <td>1952</td>\n",
       "      <td>86</td>\n",
       "      <td>23.4711</td>\n",
       "      <td>...</td>\n",
       "      <td>1</td>\n",
       "      <td>0</td>\n",
       "      <td>0</td>\n",
       "      <td>0</td>\n",
       "      <td>0</td>\n",
       "      <td>0</td>\n",
       "      <td>1</td>\n",
       "      <td>0</td>\n",
       "      <td>0</td>\n",
       "      <td>0</td>\n",
       "    </tr>\n",
       "    <tr>\n",
       "      <th>1</th>\n",
       "      <td>44465</td>\n",
       "      <td>P88079</td>\n",
       "      <td>8.0</td>\n",
       "      <td>749.511184</td>\n",
       "      <td>1965</td>\n",
       "      <td></td>\n",
       "      <td>0</td>\n",
       "      <td>1965</td>\n",
       "      <td>122</td>\n",
       "      <td>56.2002</td>\n",
       "      <td>...</td>\n",
       "      <td>1</td>\n",
       "      <td>0</td>\n",
       "      <td>0</td>\n",
       "      <td>0</td>\n",
       "      <td>0</td>\n",
       "      <td>0</td>\n",
       "      <td>1</td>\n",
       "      <td>0</td>\n",
       "      <td>0</td>\n",
       "      <td>0</td>\n",
       "    </tr>\n",
       "    <tr>\n",
       "      <th>2</th>\n",
       "      <td>23810</td>\n",
       "      <td>P53764</td>\n",
       "      <td>8.0</td>\n",
       "      <td>171.554040</td>\n",
       "      <td>1958</td>\n",
       "      <td></td>\n",
       "      <td>0</td>\n",
       "      <td>1958</td>\n",
       "      <td>61</td>\n",
       "      <td>79.6832</td>\n",
       "      <td>...</td>\n",
       "      <td>1</td>\n",
       "      <td>0</td>\n",
       "      <td>0</td>\n",
       "      <td>0</td>\n",
       "      <td>0</td>\n",
       "      <td>0</td>\n",
       "      <td>1</td>\n",
       "      <td>0</td>\n",
       "      <td>0</td>\n",
       "      <td>0</td>\n",
       "    </tr>\n",
       "    <tr>\n",
       "      <th>3</th>\n",
       "      <td>52630</td>\n",
       "      <td>P400741</td>\n",
       "      <td>8.0</td>\n",
       "      <td>42.761097</td>\n",
       "      <td>1958</td>\n",
       "      <td></td>\n",
       "      <td>0</td>\n",
       "      <td>1958</td>\n",
       "      <td>61</td>\n",
       "      <td>79.6832</td>\n",
       "      <td>...</td>\n",
       "      <td>1</td>\n",
       "      <td>0</td>\n",
       "      <td>0</td>\n",
       "      <td>0</td>\n",
       "      <td>0</td>\n",
       "      <td>0</td>\n",
       "      <td>1</td>\n",
       "      <td>0</td>\n",
       "      <td>0</td>\n",
       "      <td>0</td>\n",
       "    </tr>\n",
       "    <tr>\n",
       "      <th>4</th>\n",
       "      <td>10510</td>\n",
       "      <td>P20210</td>\n",
       "      <td>12.0</td>\n",
       "      <td>31.300481</td>\n",
       "      <td>2006</td>\n",
       "      <td></td>\n",
       "      <td>0</td>\n",
       "      <td>2006</td>\n",
       "      <td>139</td>\n",
       "      <td>98.6106</td>\n",
       "      <td>...</td>\n",
       "      <td>0</td>\n",
       "      <td>0</td>\n",
       "      <td>0</td>\n",
       "      <td>0</td>\n",
       "      <td>1</td>\n",
       "      <td>0</td>\n",
       "      <td>1</td>\n",
       "      <td>0</td>\n",
       "      <td>0</td>\n",
       "      <td>0</td>\n",
       "    </tr>\n",
       "  </tbody>\n",
       "</table>\n",
       "<p>5 rows × 91 columns</p>\n",
       "</div>"
      ],
      "text/plain": [
       "     FID     MOID  DIAMETER  PIPE_LENGTH  YEAR_INSTALLED LINING  LINE_YEAR  \\\n",
       "0  16420   P35881       8.0   861.090481            1952                 0   \n",
       "1  44465   P88079       8.0   749.511184            1965                 0   \n",
       "2  23810   P53764       8.0   171.554040            1958                 0   \n",
       "3  52630  P400741       8.0    42.761097            1958                 0   \n",
       "4  10510   P20210      12.0    31.300481            2006                 0   \n",
       "\n",
       "   INDEX_YR  ROUGHNESS     FLOW     ...      DESCRIPTION_Distribution  \\\n",
       "0      1952         86  23.4711     ...                             1   \n",
       "1      1965        122  56.2002     ...                             1   \n",
       "2      1958         61  79.6832     ...                             1   \n",
       "3      1958         61  79.6832     ...                             1   \n",
       "4      2006        139  98.6106     ...                             0   \n",
       "\n",
       "   DESCRIPTION_Experimental Pipe not in CIP  DESCRIPTION_Facility Pipe  \\\n",
       "0                                         0                          0   \n",
       "1                                         0                          0   \n",
       "2                                         0                          0   \n",
       "3                                         0                          0   \n",
       "4                                         0                          0   \n",
       "\n",
       "   DESCRIPTION_Proposed Main: Adamsville  DESCRIPTION_Transmission  \\\n",
       "0                                      0                         0   \n",
       "1                                      0                         0   \n",
       "2                                      0                         0   \n",
       "3                                      0                         0   \n",
       "4                                      0                         1   \n",
       "\n",
       "   P-ZONE_Chatt 1020  P-ZONE_Hemp 1175  P-ZONE_Hemp 1175 (moved)  \\\n",
       "0                  0                 1                         0   \n",
       "1                  0                 1                         0   \n",
       "2                  0                 1                         0   \n",
       "3                  0                 1                         0   \n",
       "4                  0                 1                         0   \n",
       "\n",
       "   P-ZONE_North 1225  P-ZONE_WTP  \n",
       "0                  0           0  \n",
       "1                  0           0  \n",
       "2                  0           0  \n",
       "3                  0           0  \n",
       "4                  0           0  \n",
       "\n",
       "[5 rows x 91 columns]"
      ]
     },
     "execution_count": 18,
     "metadata": {},
     "output_type": "execute_result"
    }
   ],
   "source": [
    "pipes_df3.head()"
   ]
  },
  {
   "cell_type": "code",
   "execution_count": 19,
   "metadata": {},
   "outputs": [
    {
     "data": {
      "text/plain": [
       "MOID                 object\n",
       "LINING               object\n",
       "WORK_ORDER_NUMBER    object\n",
       "Comments             object\n",
       "ReportDate           object\n",
       "StartDateT           object\n",
       "CompletedD           object\n",
       "SrvcRqst_1           object\n",
       "MATERIAL_1           object\n",
       "MUSYM                object\n",
       "dtype: object"
      ]
     },
     "execution_count": 19,
     "metadata": {},
     "output_type": "execute_result"
    }
   ],
   "source": [
    "#ANUM'S STOPPING POINT\n",
    "#These are the columns that still need to be converted to different types\n",
    "df_types = pipes_df3.select_dtypes(include=[np.object])\n",
    "df_types.dtypes"
   ]
  },
  {
   "cell_type": "code",
   "execution_count": 27,
   "metadata": {},
   "outputs": [],
   "source": [
    "#created new dataframe to change the datatype of ReportDate,StartDateT,CompletedD from object to datetime\n",
    "df_date=pipes_df3"
   ]
  },
  {
   "cell_type": "code",
   "execution_count": 28,
   "metadata": {},
   "outputs": [],
   "source": [
    "df_date[\"ReportDate\"]=pd.to_datetime(df_date[\"ReportDate\"], yearfirst=True, errors='coerce')\n",
    "df_date[\"StartDateT\"]=pd.to_datetime(df_date[\"StartDateT\"],yearfirst=True, errors='coerce')\n",
    "df_date[\"CompletedD\"]=pd.to_datetime(df_date[\"CompletedD\"],yearfirst=True, errors='coerce')"
   ]
  },
  {
   "cell_type": "code",
   "execution_count": 29,
   "metadata": {},
   "outputs": [
    {
     "data": {
      "text/plain": [
       "MOID                 object\n",
       "LINING               object\n",
       "WORK_ORDER_NUMBER    object\n",
       "Comments             object\n",
       "SrvcRqst_1           object\n",
       "MATERIAL_1           object\n",
       "MUSYM                object\n",
       "dtype: object"
      ]
     },
     "execution_count": 29,
     "metadata": {},
     "output_type": "execute_result"
    }
   ],
   "source": [
    "df_types11 = df_date.select_dtypes(include=[np.object])\n",
    "df_types11.dtypes"
   ]
  },
  {
   "cell_type": "code",
   "execution_count": 30,
   "metadata": {},
   "outputs": [
    {
     "data": {
      "text/plain": [
       "0   2014-10-25\n",
       "1   2015-08-18\n",
       "2   2015-09-11\n",
       "3   2015-09-11\n",
       "4   2017-01-22\n",
       "Name: ReportDate, dtype: datetime64[ns]"
      ]
     },
     "execution_count": 30,
     "metadata": {},
     "output_type": "execute_result"
    }
   ],
   "source": [
    "df_date[\"ReportDate\"].head()"
   ]
  },
  {
   "cell_type": "code",
   "execution_count": 31,
   "metadata": {},
   "outputs": [
    {
     "data": {
      "text/plain": [
       "0   2014-11-16\n",
       "1   2015-08-18\n",
       "2   2015-09-12\n",
       "3   2015-09-12\n",
       "4   2017-02-28\n",
       "Name: CompletedD, dtype: datetime64[ns]"
      ]
     },
     "execution_count": 31,
     "metadata": {},
     "output_type": "execute_result"
    }
   ],
   "source": [
    "\n",
    "df_date[\"CompletedD\"].head()"
   ]
  },
  {
   "cell_type": "code",
   "execution_count": 32,
   "metadata": {},
   "outputs": [
    {
     "data": {
      "text/plain": [
       "0   2014-11-16\n",
       "1   2015-08-18\n",
       "2   2015-09-12\n",
       "3   2015-09-12\n",
       "4   2017-02-28\n",
       "Name: StartDateT, dtype: datetime64[ns]"
      ]
     },
     "execution_count": 32,
     "metadata": {},
     "output_type": "execute_result"
    }
   ],
   "source": [
    "df_date[\"StartDateT\"].head()"
   ]
  },
  {
   "cell_type": "code",
   "execution_count": null,
   "metadata": {},
   "outputs": [],
   "source": []
  }
 ],
 "metadata": {
  "kernelspec": {
   "display_name": "Python [default]",
   "language": "python",
   "name": "python3"
  },
  "language_info": {
   "codemirror_mode": {
    "name": "ipython",
    "version": 3
   },
   "file_extension": ".py",
   "mimetype": "text/x-python",
   "name": "python",
   "nbconvert_exporter": "python",
   "pygments_lexer": "ipython3",
   "version": "3.6.5"
  }
 },
 "nbformat": 4,
 "nbformat_minor": 2
}
