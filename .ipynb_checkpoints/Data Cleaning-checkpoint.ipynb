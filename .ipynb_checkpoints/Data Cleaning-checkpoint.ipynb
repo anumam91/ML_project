{
 "cells": [
  {
   "cell_type": "code",
   "execution_count": 163,
   "metadata": {},
   "outputs": [],
   "source": [
    "#Import Dependencies\n",
    "import pandas as pd\n",
    "import numpy as np\n",
    "from sklearn.model_selection import train_test_split\n",
    "from sklearn.linear_model import LogisticRegression"
   ]
  },
  {
   "cell_type": "code",
   "execution_count": 164,
   "metadata": {},
   "outputs": [
    {
     "name": "stderr",
     "output_type": "stream",
     "text": [
      "C:\\Users\\shwet\\Anaconda3\\lib\\site-packages\\IPython\\core\\interactiveshell.py:2785: DtypeWarning: Columns (57,59,60,61) have mixed types. Specify dtype option on import or set low_memory=False.\n",
      "  interactivity=interactivity, compiler=compiler, result=result)\n"
     ]
    },
    {
     "data": {
      "text/html": [
       "<div>\n",
       "<style scoped>\n",
       "    .dataframe tbody tr th:only-of-type {\n",
       "        vertical-align: middle;\n",
       "    }\n",
       "\n",
       "    .dataframe tbody tr th {\n",
       "        vertical-align: top;\n",
       "    }\n",
       "\n",
       "    .dataframe thead th {\n",
       "        text-align: right;\n",
       "    }\n",
       "</style>\n",
       "<table border=\"1\" class=\"dataframe\">\n",
       "  <thead>\n",
       "    <tr style=\"text-align: right;\">\n",
       "      <th></th>\n",
       "      <th>FID</th>\n",
       "      <th>MOID</th>\n",
       "      <th>DIAMETER</th>\n",
       "      <th>PIPE_LENGTH</th>\n",
       "      <th>MATERIAL</th>\n",
       "      <th>DESCRIPTION</th>\n",
       "      <th>YEAR_INSTALLED</th>\n",
       "      <th>PRESSURE_ZONE</th>\n",
       "      <th>LINING</th>\n",
       "      <th>LINE_YEAR</th>\n",
       "      <th>...</th>\n",
       "      <th>WORK_ORDER_NUMBER</th>\n",
       "      <th>Comments</th>\n",
       "      <th>ReportDate</th>\n",
       "      <th>StartDateT</th>\n",
       "      <th>CompletedD</th>\n",
       "      <th>ReportedY</th>\n",
       "      <th>SrvcRqst_1</th>\n",
       "      <th>MATERIAL_1</th>\n",
       "      <th>MUSYM</th>\n",
       "      <th>FAILURE</th>\n",
       "    </tr>\n",
       "  </thead>\n",
       "  <tbody>\n",
       "    <tr>\n",
       "      <th>0</th>\n",
       "      <td>16420</td>\n",
       "      <td>P35881</td>\n",
       "      <td>8.0</td>\n",
       "      <td>861.090481</td>\n",
       "      <td>M.J.</td>\n",
       "      <td>Distribution</td>\n",
       "      <td>1952</td>\n",
       "      <td>Hemp 1175</td>\n",
       "      <td></td>\n",
       "      <td>0</td>\n",
       "      <td>...</td>\n",
       "      <td>1143689</td>\n",
       "      <td>PER UNIT 819\\n\\rREQUEST 1 6X12 PLATE AND 4 BAG...</td>\n",
       "      <td>2014-10-25</td>\n",
       "      <td>2014-11-16</td>\n",
       "      <td>2014-11-16</td>\n",
       "      <td>2014</td>\n",
       "      <td>Water Request</td>\n",
       "      <td>CAS</td>\n",
       "      <td>Ub</td>\n",
       "      <td>1</td>\n",
       "    </tr>\n",
       "    <tr>\n",
       "      <th>1</th>\n",
       "      <td>44465</td>\n",
       "      <td>P88079</td>\n",
       "      <td>8.0</td>\n",
       "      <td>749.511184</td>\n",
       "      <td>TYT</td>\n",
       "      <td>Distribution</td>\n",
       "      <td>1965</td>\n",
       "      <td>Hemp 1175</td>\n",
       "      <td></td>\n",
       "      <td>0</td>\n",
       "      <td>...</td>\n",
       "      <td>1311148</td>\n",
       "      <td>MAIN BREAK</td>\n",
       "      <td>2015-08-18</td>\n",
       "      <td>2015-08-18</td>\n",
       "      <td>2015-08-18</td>\n",
       "      <td>2015</td>\n",
       "      <td>Water Request</td>\n",
       "      <td>DIP</td>\n",
       "      <td>ReD</td>\n",
       "      <td>1</td>\n",
       "    </tr>\n",
       "    <tr>\n",
       "      <th>2</th>\n",
       "      <td>23810</td>\n",
       "      <td>P53764</td>\n",
       "      <td>8.0</td>\n",
       "      <td>171.554040</td>\n",
       "      <td>M.J.</td>\n",
       "      <td>Distribution</td>\n",
       "      <td>1958</td>\n",
       "      <td>Hemp 1175</td>\n",
       "      <td></td>\n",
       "      <td>0</td>\n",
       "      <td>...</td>\n",
       "      <td>1323748</td>\n",
       "      <td>PER JONATHAN WEBB THERE IS A MAIN BREAK AT THI...</td>\n",
       "      <td>2015-09-11</td>\n",
       "      <td>2015-09-12</td>\n",
       "      <td>2015-09-12</td>\n",
       "      <td>2015</td>\n",
       "      <td>Water Pressure Complaint</td>\n",
       "      <td>DIP</td>\n",
       "      <td>Ub</td>\n",
       "      <td>1</td>\n",
       "    </tr>\n",
       "    <tr>\n",
       "      <th>3</th>\n",
       "      <td>52630</td>\n",
       "      <td>P400741</td>\n",
       "      <td>8.0</td>\n",
       "      <td>42.761097</td>\n",
       "      <td>M.J.</td>\n",
       "      <td>Distribution</td>\n",
       "      <td>1958</td>\n",
       "      <td>Hemp 1175</td>\n",
       "      <td></td>\n",
       "      <td>0</td>\n",
       "      <td>...</td>\n",
       "      <td>1323748</td>\n",
       "      <td>PER JONATHAN WEBB THERE IS A MAIN BREAK AT THI...</td>\n",
       "      <td>2015-09-11</td>\n",
       "      <td>2015-09-12</td>\n",
       "      <td>2015-09-12</td>\n",
       "      <td>2015</td>\n",
       "      <td>Water Pressure Complaint</td>\n",
       "      <td>DIP</td>\n",
       "      <td>Ub</td>\n",
       "      <td>1</td>\n",
       "    </tr>\n",
       "    <tr>\n",
       "      <th>4</th>\n",
       "      <td>10510</td>\n",
       "      <td>P20210</td>\n",
       "      <td>12.0</td>\n",
       "      <td>31.300481</td>\n",
       "      <td>DIP</td>\n",
       "      <td>Transmission</td>\n",
       "      <td>2006</td>\n",
       "      <td>Hemp 1175</td>\n",
       "      <td></td>\n",
       "      <td>0</td>\n",
       "      <td>...</td>\n",
       "      <td>1628288</td>\n",
       "      <td>PER J. SKINNER MAIN BREAK AT LOCATION\\nCall ta...</td>\n",
       "      <td>2017-01-22</td>\n",
       "      <td>2017-02-28</td>\n",
       "      <td>2017-02-28</td>\n",
       "      <td>2017</td>\n",
       "      <td>Turn off burst pipe</td>\n",
       "      <td>DIP</td>\n",
       "      <td>Ub</td>\n",
       "      <td>1</td>\n",
       "    </tr>\n",
       "  </tbody>\n",
       "</table>\n",
       "<p>5 rows × 67 columns</p>\n",
       "</div>"
      ],
      "text/plain": [
       "     FID     MOID  DIAMETER  PIPE_LENGTH MATERIAL   DESCRIPTION  \\\n",
       "0  16420   P35881       8.0   861.090481     M.J.  Distribution   \n",
       "1  44465   P88079       8.0   749.511184      TYT  Distribution   \n",
       "2  23810   P53764       8.0   171.554040     M.J.  Distribution   \n",
       "3  52630  P400741       8.0    42.761097     M.J.  Distribution   \n",
       "4  10510   P20210      12.0    31.300481      DIP  Transmission   \n",
       "\n",
       "   YEAR_INSTALLED PRESSURE_ZONE LINING  LINE_YEAR   ...     WORK_ORDER_NUMBER  \\\n",
       "0            1952     Hemp 1175                 0   ...               1143689   \n",
       "1            1965     Hemp 1175                 0   ...               1311148   \n",
       "2            1958     Hemp 1175                 0   ...               1323748   \n",
       "3            1958     Hemp 1175                 0   ...               1323748   \n",
       "4            2006     Hemp 1175                 0   ...               1628288   \n",
       "\n",
       "                                            Comments  ReportDate  StartDateT  \\\n",
       "0  PER UNIT 819\\n\\rREQUEST 1 6X12 PLATE AND 4 BAG...  2014-10-25  2014-11-16   \n",
       "1                                         MAIN BREAK  2015-08-18  2015-08-18   \n",
       "2  PER JONATHAN WEBB THERE IS A MAIN BREAK AT THI...  2015-09-11  2015-09-12   \n",
       "3  PER JONATHAN WEBB THERE IS A MAIN BREAK AT THI...  2015-09-11  2015-09-12   \n",
       "4  PER J. SKINNER MAIN BREAK AT LOCATION\\nCall ta...  2017-01-22  2017-02-28   \n",
       "\n",
       "   CompletedD  ReportedY                SrvcRqst_1  MATERIAL_1  MUSYM  FAILURE  \n",
       "0  2014-11-16       2014             Water Request         CAS     Ub        1  \n",
       "1  2015-08-18       2015             Water Request         DIP    ReD        1  \n",
       "2  2015-09-12       2015  Water Pressure Complaint         DIP     Ub        1  \n",
       "3  2015-09-12       2015  Water Pressure Complaint         DIP     Ub        1  \n",
       "4  2017-02-28       2017       Turn off burst pipe         DIP     Ub        1  \n",
       "\n",
       "[5 rows x 67 columns]"
      ]
     },
     "execution_count": 164,
     "metadata": {},
     "output_type": "execute_result"
    }
   ],
   "source": [
    "#Load in data from csv\n",
    "pipes_df = pd.read_csv(\"Pipe_data.csv\")\n",
    "pipes_df.head()"
   ]
  },
  {
   "cell_type": "code",
   "execution_count": 165,
   "metadata": {},
   "outputs": [
    {
     "name": "stdout",
     "output_type": "stream",
     "text": [
      "There are 23 columns containing strings\n",
      "--------------------------------------------------------------\n",
      "MOID                 object\n",
      "MATERIAL             object\n",
      "DESCRIPTION          object\n",
      "PRESSURE_ZONE        object\n",
      "LINING               object\n",
      "PATTERN1             object\n",
      "PATTERN2             object\n",
      "PATTERN3             object\n",
      "PATTERN4             object\n",
      "PATTERN5             object\n",
      "PATTERN6             object\n",
      "PATTERN7             object\n",
      "PATTERN8             object\n",
      "PATTERN9             object\n",
      "PATTERN10            object\n",
      "WORK_ORDER_NUMBER    object\n",
      "Comments             object\n",
      "ReportDate           object\n",
      "StartDateT           object\n",
      "CompletedD           object\n",
      "SrvcRqst_1           object\n",
      "MATERIAL_1           object\n",
      "MUSYM                object\n",
      "dtype: object\n"
     ]
    }
   ],
   "source": [
    "#clean data by converting all columns with strings to float/int or other type that works in ML \n",
    "\n",
    "#find all columns in dataframe where type = object \n",
    "df_types = pipes_df.select_dtypes(include=[np.object])\n",
    "\n",
    "print(f'There are {len(df_types.dtypes)} columns containing strings')\n",
    "print('--------------------------------------------------------------')\n",
    "print(df_types.dtypes)"
   ]
  },
  {
   "cell_type": "code",
   "execution_count": 166,
   "metadata": {},
   "outputs": [
    {
     "data": {
      "text/html": [
       "<div>\n",
       "<style scoped>\n",
       "    .dataframe tbody tr th:only-of-type {\n",
       "        vertical-align: middle;\n",
       "    }\n",
       "\n",
       "    .dataframe tbody tr th {\n",
       "        vertical-align: top;\n",
       "    }\n",
       "\n",
       "    .dataframe thead th {\n",
       "        text-align: right;\n",
       "    }\n",
       "</style>\n",
       "<table border=\"1\" class=\"dataframe\">\n",
       "  <thead>\n",
       "    <tr style=\"text-align: right;\">\n",
       "      <th></th>\n",
       "      <th>FID</th>\n",
       "      <th>MOID</th>\n",
       "      <th>DIAMETER</th>\n",
       "      <th>PIPE_LENGTH</th>\n",
       "      <th>MATERIAL</th>\n",
       "      <th>DESCRIPTION</th>\n",
       "      <th>YEAR_INSTALLED</th>\n",
       "      <th>PRESSURE_ZONE</th>\n",
       "      <th>LINING</th>\n",
       "      <th>LINE_YEAR</th>\n",
       "      <th>...</th>\n",
       "      <th>DESCRIPTION_Distribution</th>\n",
       "      <th>DESCRIPTION_Experimental Pipe not in CIP</th>\n",
       "      <th>DESCRIPTION_Facility Pipe</th>\n",
       "      <th>DESCRIPTION_Proposed Main: Adamsville</th>\n",
       "      <th>DESCRIPTION_Transmission</th>\n",
       "      <th>P-ZONE_Chatt 1020</th>\n",
       "      <th>P-ZONE_Hemp 1175</th>\n",
       "      <th>P-ZONE_Hemp 1175 (moved)</th>\n",
       "      <th>P-ZONE_North 1225</th>\n",
       "      <th>P-ZONE_WTP</th>\n",
       "    </tr>\n",
       "  </thead>\n",
       "  <tbody>\n",
       "    <tr>\n",
       "      <th>0</th>\n",
       "      <td>16420</td>\n",
       "      <td>P35881</td>\n",
       "      <td>8.0</td>\n",
       "      <td>861.090481</td>\n",
       "      <td>M.J.</td>\n",
       "      <td>Distribution</td>\n",
       "      <td>1952</td>\n",
       "      <td>Hemp 1175</td>\n",
       "      <td></td>\n",
       "      <td>0</td>\n",
       "      <td>...</td>\n",
       "      <td>1</td>\n",
       "      <td>0</td>\n",
       "      <td>0</td>\n",
       "      <td>0</td>\n",
       "      <td>0</td>\n",
       "      <td>0</td>\n",
       "      <td>1</td>\n",
       "      <td>0</td>\n",
       "      <td>0</td>\n",
       "      <td>0</td>\n",
       "    </tr>\n",
       "    <tr>\n",
       "      <th>1</th>\n",
       "      <td>44465</td>\n",
       "      <td>P88079</td>\n",
       "      <td>8.0</td>\n",
       "      <td>749.511184</td>\n",
       "      <td>TYT</td>\n",
       "      <td>Distribution</td>\n",
       "      <td>1965</td>\n",
       "      <td>Hemp 1175</td>\n",
       "      <td></td>\n",
       "      <td>0</td>\n",
       "      <td>...</td>\n",
       "      <td>1</td>\n",
       "      <td>0</td>\n",
       "      <td>0</td>\n",
       "      <td>0</td>\n",
       "      <td>0</td>\n",
       "      <td>0</td>\n",
       "      <td>1</td>\n",
       "      <td>0</td>\n",
       "      <td>0</td>\n",
       "      <td>0</td>\n",
       "    </tr>\n",
       "    <tr>\n",
       "      <th>2</th>\n",
       "      <td>23810</td>\n",
       "      <td>P53764</td>\n",
       "      <td>8.0</td>\n",
       "      <td>171.554040</td>\n",
       "      <td>M.J.</td>\n",
       "      <td>Distribution</td>\n",
       "      <td>1958</td>\n",
       "      <td>Hemp 1175</td>\n",
       "      <td></td>\n",
       "      <td>0</td>\n",
       "      <td>...</td>\n",
       "      <td>1</td>\n",
       "      <td>0</td>\n",
       "      <td>0</td>\n",
       "      <td>0</td>\n",
       "      <td>0</td>\n",
       "      <td>0</td>\n",
       "      <td>1</td>\n",
       "      <td>0</td>\n",
       "      <td>0</td>\n",
       "      <td>0</td>\n",
       "    </tr>\n",
       "    <tr>\n",
       "      <th>3</th>\n",
       "      <td>52630</td>\n",
       "      <td>P400741</td>\n",
       "      <td>8.0</td>\n",
       "      <td>42.761097</td>\n",
       "      <td>M.J.</td>\n",
       "      <td>Distribution</td>\n",
       "      <td>1958</td>\n",
       "      <td>Hemp 1175</td>\n",
       "      <td></td>\n",
       "      <td>0</td>\n",
       "      <td>...</td>\n",
       "      <td>1</td>\n",
       "      <td>0</td>\n",
       "      <td>0</td>\n",
       "      <td>0</td>\n",
       "      <td>0</td>\n",
       "      <td>0</td>\n",
       "      <td>1</td>\n",
       "      <td>0</td>\n",
       "      <td>0</td>\n",
       "      <td>0</td>\n",
       "    </tr>\n",
       "    <tr>\n",
       "      <th>4</th>\n",
       "      <td>10510</td>\n",
       "      <td>P20210</td>\n",
       "      <td>12.0</td>\n",
       "      <td>31.300481</td>\n",
       "      <td>DIP</td>\n",
       "      <td>Transmission</td>\n",
       "      <td>2006</td>\n",
       "      <td>Hemp 1175</td>\n",
       "      <td></td>\n",
       "      <td>0</td>\n",
       "      <td>...</td>\n",
       "      <td>0</td>\n",
       "      <td>0</td>\n",
       "      <td>0</td>\n",
       "      <td>0</td>\n",
       "      <td>1</td>\n",
       "      <td>0</td>\n",
       "      <td>1</td>\n",
       "      <td>0</td>\n",
       "      <td>0</td>\n",
       "      <td>0</td>\n",
       "    </tr>\n",
       "  </tbody>\n",
       "</table>\n",
       "<p>5 rows × 106 columns</p>\n",
       "</div>"
      ],
      "text/plain": [
       "     FID     MOID  DIAMETER  PIPE_LENGTH MATERIAL   DESCRIPTION  \\\n",
       "0  16420   P35881       8.0   861.090481     M.J.  Distribution   \n",
       "1  44465   P88079       8.0   749.511184      TYT  Distribution   \n",
       "2  23810   P53764       8.0   171.554040     M.J.  Distribution   \n",
       "3  52630  P400741       8.0    42.761097     M.J.  Distribution   \n",
       "4  10510   P20210      12.0    31.300481      DIP  Transmission   \n",
       "\n",
       "   YEAR_INSTALLED PRESSURE_ZONE LINING  LINE_YEAR     ...      \\\n",
       "0            1952     Hemp 1175                 0     ...       \n",
       "1            1965     Hemp 1175                 0     ...       \n",
       "2            1958     Hemp 1175                 0     ...       \n",
       "3            1958     Hemp 1175                 0     ...       \n",
       "4            2006     Hemp 1175                 0     ...       \n",
       "\n",
       "   DESCRIPTION_Distribution  DESCRIPTION_Experimental Pipe not in CIP  \\\n",
       "0                         1                                         0   \n",
       "1                         1                                         0   \n",
       "2                         1                                         0   \n",
       "3                         1                                         0   \n",
       "4                         0                                         0   \n",
       "\n",
       "   DESCRIPTION_Facility Pipe  DESCRIPTION_Proposed Main: Adamsville  \\\n",
       "0                          0                                      0   \n",
       "1                          0                                      0   \n",
       "2                          0                                      0   \n",
       "3                          0                                      0   \n",
       "4                          0                                      0   \n",
       "\n",
       "   DESCRIPTION_Transmission  P-ZONE_Chatt 1020  P-ZONE_Hemp 1175  \\\n",
       "0                         0                  0                 1   \n",
       "1                         0                  0                 1   \n",
       "2                         0                  0                 1   \n",
       "3                         0                  0                 1   \n",
       "4                         1                  0                 1   \n",
       "\n",
       "   P-ZONE_Hemp 1175 (moved)  P-ZONE_North 1225  P-ZONE_WTP  \n",
       "0                         0                  0           0  \n",
       "1                         0                  0           0  \n",
       "2                         0                  0           0  \n",
       "3                         0                  0           0  \n",
       "4                         0                  0           0  \n",
       "\n",
       "[5 rows x 106 columns]"
      ]
     },
     "execution_count": 166,
     "metadata": {},
     "output_type": "execute_result"
    }
   ],
   "source": [
    "#get dummies for columns where applicable--MATERIAL, DESCRIPTION, PRESSURE_ZONE\n",
    "pipes_df = pd.concat([pipes_df, pd.get_dummies(pipes_df['MATERIAL'], prefix='MATERIAL')], axis=1)\n",
    "pipes_df = pd.concat([pipes_df, pd.get_dummies(pipes_df['DESCRIPTION'], prefix='DESCRIPTION')], axis=1); \n",
    "pipes_df = pd.concat([pipes_df, pd.get_dummies(pipes_df['PRESSURE_ZONE'], prefix='P-ZONE')], axis=1); \n",
    "pipes_df.head()"
   ]
  },
  {
   "cell_type": "code",
   "execution_count": 167,
   "metadata": {},
   "outputs": [
    {
     "data": {
      "text/html": [
       "<div>\n",
       "<style scoped>\n",
       "    .dataframe tbody tr th:only-of-type {\n",
       "        vertical-align: middle;\n",
       "    }\n",
       "\n",
       "    .dataframe tbody tr th {\n",
       "        vertical-align: top;\n",
       "    }\n",
       "\n",
       "    .dataframe thead th {\n",
       "        text-align: right;\n",
       "    }\n",
       "</style>\n",
       "<table border=\"1\" class=\"dataframe\">\n",
       "  <thead>\n",
       "    <tr style=\"text-align: right;\">\n",
       "      <th></th>\n",
       "      <th>FID</th>\n",
       "      <th>MOID</th>\n",
       "      <th>DIAMETER</th>\n",
       "      <th>PIPE_LENGTH</th>\n",
       "      <th>YEAR_INSTALLED</th>\n",
       "      <th>LINING</th>\n",
       "      <th>LINE_YEAR</th>\n",
       "      <th>INDEX_YR</th>\n",
       "      <th>ROUGHNESS</th>\n",
       "      <th>FLOW</th>\n",
       "      <th>...</th>\n",
       "      <th>DESCRIPTION_Distribution</th>\n",
       "      <th>DESCRIPTION_Experimental Pipe not in CIP</th>\n",
       "      <th>DESCRIPTION_Facility Pipe</th>\n",
       "      <th>DESCRIPTION_Proposed Main: Adamsville</th>\n",
       "      <th>DESCRIPTION_Transmission</th>\n",
       "      <th>P-ZONE_Chatt 1020</th>\n",
       "      <th>P-ZONE_Hemp 1175</th>\n",
       "      <th>P-ZONE_Hemp 1175 (moved)</th>\n",
       "      <th>P-ZONE_North 1225</th>\n",
       "      <th>P-ZONE_WTP</th>\n",
       "    </tr>\n",
       "  </thead>\n",
       "  <tbody>\n",
       "    <tr>\n",
       "      <th>0</th>\n",
       "      <td>16420</td>\n",
       "      <td>P35881</td>\n",
       "      <td>8.0</td>\n",
       "      <td>861.090481</td>\n",
       "      <td>1952</td>\n",
       "      <td></td>\n",
       "      <td>0</td>\n",
       "      <td>1952</td>\n",
       "      <td>86</td>\n",
       "      <td>23.4711</td>\n",
       "      <td>...</td>\n",
       "      <td>1</td>\n",
       "      <td>0</td>\n",
       "      <td>0</td>\n",
       "      <td>0</td>\n",
       "      <td>0</td>\n",
       "      <td>0</td>\n",
       "      <td>1</td>\n",
       "      <td>0</td>\n",
       "      <td>0</td>\n",
       "      <td>0</td>\n",
       "    </tr>\n",
       "    <tr>\n",
       "      <th>1</th>\n",
       "      <td>44465</td>\n",
       "      <td>P88079</td>\n",
       "      <td>8.0</td>\n",
       "      <td>749.511184</td>\n",
       "      <td>1965</td>\n",
       "      <td></td>\n",
       "      <td>0</td>\n",
       "      <td>1965</td>\n",
       "      <td>122</td>\n",
       "      <td>56.2002</td>\n",
       "      <td>...</td>\n",
       "      <td>1</td>\n",
       "      <td>0</td>\n",
       "      <td>0</td>\n",
       "      <td>0</td>\n",
       "      <td>0</td>\n",
       "      <td>0</td>\n",
       "      <td>1</td>\n",
       "      <td>0</td>\n",
       "      <td>0</td>\n",
       "      <td>0</td>\n",
       "    </tr>\n",
       "    <tr>\n",
       "      <th>2</th>\n",
       "      <td>23810</td>\n",
       "      <td>P53764</td>\n",
       "      <td>8.0</td>\n",
       "      <td>171.554040</td>\n",
       "      <td>1958</td>\n",
       "      <td></td>\n",
       "      <td>0</td>\n",
       "      <td>1958</td>\n",
       "      <td>61</td>\n",
       "      <td>79.6832</td>\n",
       "      <td>...</td>\n",
       "      <td>1</td>\n",
       "      <td>0</td>\n",
       "      <td>0</td>\n",
       "      <td>0</td>\n",
       "      <td>0</td>\n",
       "      <td>0</td>\n",
       "      <td>1</td>\n",
       "      <td>0</td>\n",
       "      <td>0</td>\n",
       "      <td>0</td>\n",
       "    </tr>\n",
       "    <tr>\n",
       "      <th>3</th>\n",
       "      <td>52630</td>\n",
       "      <td>P400741</td>\n",
       "      <td>8.0</td>\n",
       "      <td>42.761097</td>\n",
       "      <td>1958</td>\n",
       "      <td></td>\n",
       "      <td>0</td>\n",
       "      <td>1958</td>\n",
       "      <td>61</td>\n",
       "      <td>79.6832</td>\n",
       "      <td>...</td>\n",
       "      <td>1</td>\n",
       "      <td>0</td>\n",
       "      <td>0</td>\n",
       "      <td>0</td>\n",
       "      <td>0</td>\n",
       "      <td>0</td>\n",
       "      <td>1</td>\n",
       "      <td>0</td>\n",
       "      <td>0</td>\n",
       "      <td>0</td>\n",
       "    </tr>\n",
       "    <tr>\n",
       "      <th>4</th>\n",
       "      <td>10510</td>\n",
       "      <td>P20210</td>\n",
       "      <td>12.0</td>\n",
       "      <td>31.300481</td>\n",
       "      <td>2006</td>\n",
       "      <td></td>\n",
       "      <td>0</td>\n",
       "      <td>2006</td>\n",
       "      <td>139</td>\n",
       "      <td>98.6106</td>\n",
       "      <td>...</td>\n",
       "      <td>0</td>\n",
       "      <td>0</td>\n",
       "      <td>0</td>\n",
       "      <td>0</td>\n",
       "      <td>1</td>\n",
       "      <td>0</td>\n",
       "      <td>1</td>\n",
       "      <td>0</td>\n",
       "      <td>0</td>\n",
       "      <td>0</td>\n",
       "    </tr>\n",
       "  </tbody>\n",
       "</table>\n",
       "<p>5 rows × 103 columns</p>\n",
       "</div>"
      ],
      "text/plain": [
       "     FID     MOID  DIAMETER  PIPE_LENGTH  YEAR_INSTALLED LINING  LINE_YEAR  \\\n",
       "0  16420   P35881       8.0   861.090481            1952                 0   \n",
       "1  44465   P88079       8.0   749.511184            1965                 0   \n",
       "2  23810   P53764       8.0   171.554040            1958                 0   \n",
       "3  52630  P400741       8.0    42.761097            1958                 0   \n",
       "4  10510   P20210      12.0    31.300481            2006                 0   \n",
       "\n",
       "   INDEX_YR  ROUGHNESS     FLOW     ...      DESCRIPTION_Distribution  \\\n",
       "0      1952         86  23.4711     ...                             1   \n",
       "1      1965        122  56.2002     ...                             1   \n",
       "2      1958         61  79.6832     ...                             1   \n",
       "3      1958         61  79.6832     ...                             1   \n",
       "4      2006        139  98.6106     ...                             0   \n",
       "\n",
       "   DESCRIPTION_Experimental Pipe not in CIP  DESCRIPTION_Facility Pipe  \\\n",
       "0                                         0                          0   \n",
       "1                                         0                          0   \n",
       "2                                         0                          0   \n",
       "3                                         0                          0   \n",
       "4                                         0                          0   \n",
       "\n",
       "   DESCRIPTION_Proposed Main: Adamsville  DESCRIPTION_Transmission  \\\n",
       "0                                      0                         0   \n",
       "1                                      0                         0   \n",
       "2                                      0                         0   \n",
       "3                                      0                         0   \n",
       "4                                      0                         1   \n",
       "\n",
       "   P-ZONE_Chatt 1020  P-ZONE_Hemp 1175  P-ZONE_Hemp 1175 (moved)  \\\n",
       "0                  0                 1                         0   \n",
       "1                  0                 1                         0   \n",
       "2                  0                 1                         0   \n",
       "3                  0                 1                         0   \n",
       "4                  0                 1                         0   \n",
       "\n",
       "   P-ZONE_North 1225  P-ZONE_WTP  \n",
       "0                  0           0  \n",
       "1                  0           0  \n",
       "2                  0           0  \n",
       "3                  0           0  \n",
       "4                  0           0  \n",
       "\n",
       "[5 rows x 103 columns]"
      ]
     },
     "execution_count": 167,
     "metadata": {},
     "output_type": "execute_result"
    }
   ],
   "source": [
    "#drop original columns--MATERIAL, DESCRIPTION, PRESSURE_ZONE\n",
    "pipes_df2 = pipes_df.drop(columns={ 'MATERIAL',\n",
    " 'DESCRIPTION',\n",
    " 'PRESSURE_ZONE',})\n",
    "pipes_df2.head()"
   ]
  },
  {
   "cell_type": "code",
   "execution_count": 168,
   "metadata": {},
   "outputs": [
    {
     "data": {
      "text/plain": [
       "RES    55937\n",
       "          75\n",
       "Name: PATTERN1, dtype: int64"
      ]
     },
     "execution_count": 168,
     "metadata": {},
     "output_type": "execute_result"
    }
   ],
   "source": [
    "# Now work on the'PATTERN' columns. There are 10 of them. \n",
    "#check if each pattern column only has 1 value\n",
    "pipes_df2[\"PATTERN1\"].value_counts()"
   ]
  },
  {
   "cell_type": "code",
   "execution_count": 169,
   "metadata": {},
   "outputs": [
    {
     "data": {
      "text/plain": [
       "NON-RES    55937\n",
       "              75\n",
       "Name: PATTERN2, dtype: int64"
      ]
     },
     "execution_count": 169,
     "metadata": {},
     "output_type": "execute_result"
    }
   ],
   "source": [
    "pipes_df2[\"PATTERN2\"].value_counts()"
   ]
  },
  {
   "cell_type": "code",
   "execution_count": 170,
   "metadata": {},
   "outputs": [
    {
     "data": {
      "text/plain": [
       "WHOLE    55937\n",
       "            75\n",
       "Name: PATTERN3, dtype: int64"
      ]
     },
     "execution_count": 170,
     "metadata": {},
     "output_type": "execute_result"
    }
   ],
   "source": [
    "pipes_df2[\"PATTERN3\"].value_counts()"
   ]
  },
  {
   "cell_type": "code",
   "execution_count": 171,
   "metadata": {},
   "outputs": [
    {
     "data": {
      "text/plain": [
       "FLUSH    55937\n",
       "            75\n",
       "Name: PATTERN4, dtype: int64"
      ]
     },
     "execution_count": 171,
     "metadata": {},
     "output_type": "execute_result"
    }
   ],
   "source": [
    "pipes_df2[\"PATTERN4\"].value_counts()"
   ]
  },
  {
   "cell_type": "code",
   "execution_count": 172,
   "metadata": {},
   "outputs": [
    {
     "data": {
      "text/plain": [
       "UFW    55937\n",
       "          75\n",
       "Name: PATTERN5, dtype: int64"
      ]
     },
     "execution_count": 172,
     "metadata": {},
     "output_type": "execute_result"
    }
   ],
   "source": [
    "pipes_df2[\"PATTERN5\"].value_counts()"
   ]
  },
  {
   "cell_type": "code",
   "execution_count": 173,
   "metadata": {},
   "outputs": [
    {
     "data": {
      "text/plain": [
       "RES-DISTR    55937\n",
       "                75\n",
       "Name: PATTERN6, dtype: int64"
      ]
     },
     "execution_count": 173,
     "metadata": {},
     "output_type": "execute_result"
    }
   ],
   "source": [
    "pipes_df2[\"PATTERN6\"].value_counts()"
   ]
  },
  {
   "cell_type": "code",
   "execution_count": 174,
   "metadata": {},
   "outputs": [
    {
     "data": {
      "text/plain": [
       "NON-RES-DISTR    55937\n",
       "                    75\n",
       "Name: PATTERN7, dtype: int64"
      ]
     },
     "execution_count": 174,
     "metadata": {},
     "output_type": "execute_result"
    }
   ],
   "source": [
    "pipes_df2[\"PATTERN7\"].value_counts()"
   ]
  },
  {
   "cell_type": "code",
   "execution_count": 175,
   "metadata": {},
   "outputs": [
    {
     "data": {
      "text/plain": [
       "                56010\n",
       "2030-CWTP-NS        2\n",
       "Name: PATTERN8, dtype: int64"
      ]
     },
     "execution_count": 175,
     "metadata": {},
     "output_type": "execute_result"
    }
   ],
   "source": [
    "pipes_df2[\"PATTERN8\"].value_counts()"
   ]
  },
  {
   "cell_type": "code",
   "execution_count": 176,
   "metadata": {},
   "outputs": [
    {
     "data": {
      "text/plain": [
       "     56012\n",
       "Name: PATTERN9, dtype: int64"
      ]
     },
     "execution_count": 176,
     "metadata": {},
     "output_type": "execute_result"
    }
   ],
   "source": [
    "pipes_df2[\"PATTERN9\"].value_counts()"
   ]
  },
  {
   "cell_type": "code",
   "execution_count": 177,
   "metadata": {},
   "outputs": [
    {
     "data": {
      "text/plain": [
       "     56012\n",
       "Name: PATTERN10, dtype: int64"
      ]
     },
     "execution_count": 177,
     "metadata": {},
     "output_type": "execute_result"
    }
   ],
   "source": [
    "pipes_df2[\"PATTERN10\"].value_counts()"
   ]
  },
  {
   "cell_type": "code",
   "execution_count": 178,
   "metadata": {},
   "outputs": [],
   "source": [
    "#Condense correlating PATTERN + DEMAND columns into 1 column\n",
    "pipes_df2 = pipes_df2.rename(columns={\"DEMAND1\":\"Demand_RES\", \"DEMAND2\":\"Demand_NON-RES\",\"DEMAND3\":\"Demand_WHOLE\",\"DEMAND4\":\"Demand_FLUSH\",\"DEMAND5\":\"Demand_UFW\",\n",
    "                                     \"DEMAND6\":\"Demand_RES-DISTR\",\"DEMAND7\":\"Demand_NON RES-DISTR\",\"DEMAND8\":\"Demand_2030-CWTP-NS\"})\n",
    "\n",
    "#Delete unneeded columns\n",
    "#NOTE to Team: I didn’t see any data at all in the ‘DEMAND9’, ‘PATTERN9’, ‘DEMAND10’, ‘PATTERN10’ columns,so I deleted all of these columns\n",
    "pipes_df3 = pipes_df2.drop(columns={\"PATTERN1\", \"PATTERN2\", \"PATTERN3\", \"PATTERN4\", \"PATTERN5\", \"PATTERN6\", \"PATTERN7\", \"PATTERN8\", \"PATTERN9\", \"PATTERN10\", \"DEMAND9\", \"DEMAND10\"})"
   ]
  },
  {
   "cell_type": "code",
   "execution_count": 179,
   "metadata": {},
   "outputs": [
    {
     "data": {
      "text/html": [
       "<div>\n",
       "<style scoped>\n",
       "    .dataframe tbody tr th:only-of-type {\n",
       "        vertical-align: middle;\n",
       "    }\n",
       "\n",
       "    .dataframe tbody tr th {\n",
       "        vertical-align: top;\n",
       "    }\n",
       "\n",
       "    .dataframe thead th {\n",
       "        text-align: right;\n",
       "    }\n",
       "</style>\n",
       "<table border=\"1\" class=\"dataframe\">\n",
       "  <thead>\n",
       "    <tr style=\"text-align: right;\">\n",
       "      <th></th>\n",
       "      <th>FID</th>\n",
       "      <th>MOID</th>\n",
       "      <th>DIAMETER</th>\n",
       "      <th>PIPE_LENGTH</th>\n",
       "      <th>YEAR_INSTALLED</th>\n",
       "      <th>LINING</th>\n",
       "      <th>LINE_YEAR</th>\n",
       "      <th>INDEX_YR</th>\n",
       "      <th>ROUGHNESS</th>\n",
       "      <th>FLOW</th>\n",
       "      <th>...</th>\n",
       "      <th>DESCRIPTION_Distribution</th>\n",
       "      <th>DESCRIPTION_Experimental Pipe not in CIP</th>\n",
       "      <th>DESCRIPTION_Facility Pipe</th>\n",
       "      <th>DESCRIPTION_Proposed Main: Adamsville</th>\n",
       "      <th>DESCRIPTION_Transmission</th>\n",
       "      <th>P-ZONE_Chatt 1020</th>\n",
       "      <th>P-ZONE_Hemp 1175</th>\n",
       "      <th>P-ZONE_Hemp 1175 (moved)</th>\n",
       "      <th>P-ZONE_North 1225</th>\n",
       "      <th>P-ZONE_WTP</th>\n",
       "    </tr>\n",
       "  </thead>\n",
       "  <tbody>\n",
       "    <tr>\n",
       "      <th>0</th>\n",
       "      <td>16420</td>\n",
       "      <td>P35881</td>\n",
       "      <td>8.0</td>\n",
       "      <td>861.090481</td>\n",
       "      <td>1952</td>\n",
       "      <td></td>\n",
       "      <td>0</td>\n",
       "      <td>1952</td>\n",
       "      <td>86</td>\n",
       "      <td>23.4711</td>\n",
       "      <td>...</td>\n",
       "      <td>1</td>\n",
       "      <td>0</td>\n",
       "      <td>0</td>\n",
       "      <td>0</td>\n",
       "      <td>0</td>\n",
       "      <td>0</td>\n",
       "      <td>1</td>\n",
       "      <td>0</td>\n",
       "      <td>0</td>\n",
       "      <td>0</td>\n",
       "    </tr>\n",
       "    <tr>\n",
       "      <th>1</th>\n",
       "      <td>44465</td>\n",
       "      <td>P88079</td>\n",
       "      <td>8.0</td>\n",
       "      <td>749.511184</td>\n",
       "      <td>1965</td>\n",
       "      <td></td>\n",
       "      <td>0</td>\n",
       "      <td>1965</td>\n",
       "      <td>122</td>\n",
       "      <td>56.2002</td>\n",
       "      <td>...</td>\n",
       "      <td>1</td>\n",
       "      <td>0</td>\n",
       "      <td>0</td>\n",
       "      <td>0</td>\n",
       "      <td>0</td>\n",
       "      <td>0</td>\n",
       "      <td>1</td>\n",
       "      <td>0</td>\n",
       "      <td>0</td>\n",
       "      <td>0</td>\n",
       "    </tr>\n",
       "    <tr>\n",
       "      <th>2</th>\n",
       "      <td>23810</td>\n",
       "      <td>P53764</td>\n",
       "      <td>8.0</td>\n",
       "      <td>171.554040</td>\n",
       "      <td>1958</td>\n",
       "      <td></td>\n",
       "      <td>0</td>\n",
       "      <td>1958</td>\n",
       "      <td>61</td>\n",
       "      <td>79.6832</td>\n",
       "      <td>...</td>\n",
       "      <td>1</td>\n",
       "      <td>0</td>\n",
       "      <td>0</td>\n",
       "      <td>0</td>\n",
       "      <td>0</td>\n",
       "      <td>0</td>\n",
       "      <td>1</td>\n",
       "      <td>0</td>\n",
       "      <td>0</td>\n",
       "      <td>0</td>\n",
       "    </tr>\n",
       "    <tr>\n",
       "      <th>3</th>\n",
       "      <td>52630</td>\n",
       "      <td>P400741</td>\n",
       "      <td>8.0</td>\n",
       "      <td>42.761097</td>\n",
       "      <td>1958</td>\n",
       "      <td></td>\n",
       "      <td>0</td>\n",
       "      <td>1958</td>\n",
       "      <td>61</td>\n",
       "      <td>79.6832</td>\n",
       "      <td>...</td>\n",
       "      <td>1</td>\n",
       "      <td>0</td>\n",
       "      <td>0</td>\n",
       "      <td>0</td>\n",
       "      <td>0</td>\n",
       "      <td>0</td>\n",
       "      <td>1</td>\n",
       "      <td>0</td>\n",
       "      <td>0</td>\n",
       "      <td>0</td>\n",
       "    </tr>\n",
       "    <tr>\n",
       "      <th>4</th>\n",
       "      <td>10510</td>\n",
       "      <td>P20210</td>\n",
       "      <td>12.0</td>\n",
       "      <td>31.300481</td>\n",
       "      <td>2006</td>\n",
       "      <td></td>\n",
       "      <td>0</td>\n",
       "      <td>2006</td>\n",
       "      <td>139</td>\n",
       "      <td>98.6106</td>\n",
       "      <td>...</td>\n",
       "      <td>0</td>\n",
       "      <td>0</td>\n",
       "      <td>0</td>\n",
       "      <td>0</td>\n",
       "      <td>1</td>\n",
       "      <td>0</td>\n",
       "      <td>1</td>\n",
       "      <td>0</td>\n",
       "      <td>0</td>\n",
       "      <td>0</td>\n",
       "    </tr>\n",
       "  </tbody>\n",
       "</table>\n",
       "<p>5 rows × 91 columns</p>\n",
       "</div>"
      ],
      "text/plain": [
       "     FID     MOID  DIAMETER  PIPE_LENGTH  YEAR_INSTALLED LINING  LINE_YEAR  \\\n",
       "0  16420   P35881       8.0   861.090481            1952                 0   \n",
       "1  44465   P88079       8.0   749.511184            1965                 0   \n",
       "2  23810   P53764       8.0   171.554040            1958                 0   \n",
       "3  52630  P400741       8.0    42.761097            1958                 0   \n",
       "4  10510   P20210      12.0    31.300481            2006                 0   \n",
       "\n",
       "   INDEX_YR  ROUGHNESS     FLOW     ...      DESCRIPTION_Distribution  \\\n",
       "0      1952         86  23.4711     ...                             1   \n",
       "1      1965        122  56.2002     ...                             1   \n",
       "2      1958         61  79.6832     ...                             1   \n",
       "3      1958         61  79.6832     ...                             1   \n",
       "4      2006        139  98.6106     ...                             0   \n",
       "\n",
       "   DESCRIPTION_Experimental Pipe not in CIP  DESCRIPTION_Facility Pipe  \\\n",
       "0                                         0                          0   \n",
       "1                                         0                          0   \n",
       "2                                         0                          0   \n",
       "3                                         0                          0   \n",
       "4                                         0                          0   \n",
       "\n",
       "   DESCRIPTION_Proposed Main: Adamsville  DESCRIPTION_Transmission  \\\n",
       "0                                      0                         0   \n",
       "1                                      0                         0   \n",
       "2                                      0                         0   \n",
       "3                                      0                         0   \n",
       "4                                      0                         1   \n",
       "\n",
       "   P-ZONE_Chatt 1020  P-ZONE_Hemp 1175  P-ZONE_Hemp 1175 (moved)  \\\n",
       "0                  0                 1                         0   \n",
       "1                  0                 1                         0   \n",
       "2                  0                 1                         0   \n",
       "3                  0                 1                         0   \n",
       "4                  0                 1                         0   \n",
       "\n",
       "   P-ZONE_North 1225  P-ZONE_WTP  \n",
       "0                  0           0  \n",
       "1                  0           0  \n",
       "2                  0           0  \n",
       "3                  0           0  \n",
       "4                  0           0  \n",
       "\n",
       "[5 rows x 91 columns]"
      ]
     },
     "execution_count": 179,
     "metadata": {},
     "output_type": "execute_result"
    }
   ],
   "source": [
    "pipes_df3.head()"
   ]
  },
  {
   "cell_type": "code",
   "execution_count": 180,
   "metadata": {},
   "outputs": [
    {
     "data": {
      "text/plain": [
       "MOID                 object\n",
       "LINING               object\n",
       "WORK_ORDER_NUMBER    object\n",
       "Comments             object\n",
       "ReportDate           object\n",
       "StartDateT           object\n",
       "CompletedD           object\n",
       "SrvcRqst_1           object\n",
       "MATERIAL_1           object\n",
       "MUSYM                object\n",
       "dtype: object"
      ]
     },
     "execution_count": 180,
     "metadata": {},
     "output_type": "execute_result"
    }
   ],
   "source": [
    "#ANUM'S STOPPING POINT\n",
    "#These are the columns that still need to be converted to different types\n",
    "df_types = pipes_df3.select_dtypes(include=[np.object])\n",
    "df_types.dtypes"
   ]
  },
  {
   "cell_type": "code",
   "execution_count": 181,
   "metadata": {},
   "outputs": [],
   "source": [
    "#created new dataframe to change the datatype of ReportDate,StartDateT,CompletedD from object to datetime\n",
    "df_date=pipes_df3"
   ]
  },
  {
   "cell_type": "code",
   "execution_count": 182,
   "metadata": {},
   "outputs": [],
   "source": [
    "df_date[\"ReportDate\"]=pd.to_datetime(df_date[\"ReportDate\"], yearfirst=True, errors='coerce')\n",
    "df_date[\"StartDateT\"]=pd.to_datetime(df_date[\"StartDateT\"],yearfirst=True, errors='coerce')\n",
    "df_date[\"CompletedD\"]=pd.to_datetime(df_date[\"CompletedD\"],yearfirst=True, errors='coerce')"
   ]
  },
  {
   "cell_type": "code",
   "execution_count": 183,
   "metadata": {},
   "outputs": [
    {
     "data": {
      "text/plain": [
       "MOID                 object\n",
       "LINING               object\n",
       "WORK_ORDER_NUMBER    object\n",
       "Comments             object\n",
       "SrvcRqst_1           object\n",
       "MATERIAL_1           object\n",
       "MUSYM                object\n",
       "dtype: object"
      ]
     },
     "execution_count": 183,
     "metadata": {},
     "output_type": "execute_result"
    }
   ],
   "source": [
    "df_types11 = df_date.select_dtypes(include=[np.object])\n",
    "df_types11.dtypes"
   ]
  },
  {
   "cell_type": "code",
   "execution_count": 184,
   "metadata": {},
   "outputs": [
    {
     "data": {
      "text/plain": [
       "0   2014-10-25\n",
       "1   2015-08-18\n",
       "2   2015-09-11\n",
       "3   2015-09-11\n",
       "4   2017-01-22\n",
       "Name: ReportDate, dtype: datetime64[ns]"
      ]
     },
     "execution_count": 184,
     "metadata": {},
     "output_type": "execute_result"
    }
   ],
   "source": [
    "df_date[\"ReportDate\"].head()"
   ]
  },
  {
   "cell_type": "code",
   "execution_count": 185,
   "metadata": {},
   "outputs": [
    {
     "data": {
      "text/plain": [
       "0   2014-11-16\n",
       "1   2015-08-18\n",
       "2   2015-09-12\n",
       "3   2015-09-12\n",
       "4   2017-02-28\n",
       "Name: CompletedD, dtype: datetime64[ns]"
      ]
     },
     "execution_count": 185,
     "metadata": {},
     "output_type": "execute_result"
    }
   ],
   "source": [
    "\n",
    "df_date[\"CompletedD\"].head()"
   ]
  },
  {
   "cell_type": "code",
   "execution_count": 186,
   "metadata": {},
   "outputs": [
    {
     "data": {
      "text/plain": [
       "0   2014-11-16\n",
       "1   2015-08-18\n",
       "2   2015-09-12\n",
       "3   2015-09-12\n",
       "4   2017-02-28\n",
       "Name: StartDateT, dtype: datetime64[ns]"
      ]
     },
     "execution_count": 186,
     "metadata": {},
     "output_type": "execute_result"
    }
   ],
   "source": [
    "df_date[\"StartDateT\"].head()"
   ]
  },
  {
   "cell_type": "code",
   "execution_count": 187,
   "metadata": {},
   "outputs": [
    {
     "data": {
      "text/html": [
       "<div>\n",
       "<style scoped>\n",
       "    .dataframe tbody tr th:only-of-type {\n",
       "        vertical-align: middle;\n",
       "    }\n",
       "\n",
       "    .dataframe tbody tr th {\n",
       "        vertical-align: top;\n",
       "    }\n",
       "\n",
       "    .dataframe thead th {\n",
       "        text-align: right;\n",
       "    }\n",
       "</style>\n",
       "<table border=\"1\" class=\"dataframe\">\n",
       "  <thead>\n",
       "    <tr style=\"text-align: right;\">\n",
       "      <th></th>\n",
       "      <th>FID</th>\n",
       "      <th>MOID</th>\n",
       "      <th>DIAMETER</th>\n",
       "      <th>PIPE_LENGTH</th>\n",
       "      <th>YEAR_INSTALLED</th>\n",
       "      <th>LINING</th>\n",
       "      <th>LINE_YEAR</th>\n",
       "      <th>INDEX_YR</th>\n",
       "      <th>ROUGHNESS</th>\n",
       "      <th>FLOW</th>\n",
       "      <th>...</th>\n",
       "      <th>DESCRIPTION_Distribution</th>\n",
       "      <th>DESCRIPTION_Experimental Pipe not in CIP</th>\n",
       "      <th>DESCRIPTION_Facility Pipe</th>\n",
       "      <th>DESCRIPTION_Proposed Main: Adamsville</th>\n",
       "      <th>DESCRIPTION_Transmission</th>\n",
       "      <th>P-ZONE_Chatt 1020</th>\n",
       "      <th>P-ZONE_Hemp 1175</th>\n",
       "      <th>P-ZONE_Hemp 1175 (moved)</th>\n",
       "      <th>P-ZONE_North 1225</th>\n",
       "      <th>P-ZONE_WTP</th>\n",
       "    </tr>\n",
       "  </thead>\n",
       "  <tbody>\n",
       "    <tr>\n",
       "      <th>0</th>\n",
       "      <td>16420</td>\n",
       "      <td>P35881</td>\n",
       "      <td>8.0</td>\n",
       "      <td>861.090481</td>\n",
       "      <td>1952</td>\n",
       "      <td></td>\n",
       "      <td>0</td>\n",
       "      <td>1952</td>\n",
       "      <td>86</td>\n",
       "      <td>23.4711</td>\n",
       "      <td>...</td>\n",
       "      <td>1</td>\n",
       "      <td>0</td>\n",
       "      <td>0</td>\n",
       "      <td>0</td>\n",
       "      <td>0</td>\n",
       "      <td>0</td>\n",
       "      <td>1</td>\n",
       "      <td>0</td>\n",
       "      <td>0</td>\n",
       "      <td>0</td>\n",
       "    </tr>\n",
       "    <tr>\n",
       "      <th>1</th>\n",
       "      <td>44465</td>\n",
       "      <td>P88079</td>\n",
       "      <td>8.0</td>\n",
       "      <td>749.511184</td>\n",
       "      <td>1965</td>\n",
       "      <td></td>\n",
       "      <td>0</td>\n",
       "      <td>1965</td>\n",
       "      <td>122</td>\n",
       "      <td>56.2002</td>\n",
       "      <td>...</td>\n",
       "      <td>1</td>\n",
       "      <td>0</td>\n",
       "      <td>0</td>\n",
       "      <td>0</td>\n",
       "      <td>0</td>\n",
       "      <td>0</td>\n",
       "      <td>1</td>\n",
       "      <td>0</td>\n",
       "      <td>0</td>\n",
       "      <td>0</td>\n",
       "    </tr>\n",
       "    <tr>\n",
       "      <th>2</th>\n",
       "      <td>23810</td>\n",
       "      <td>P53764</td>\n",
       "      <td>8.0</td>\n",
       "      <td>171.554040</td>\n",
       "      <td>1958</td>\n",
       "      <td></td>\n",
       "      <td>0</td>\n",
       "      <td>1958</td>\n",
       "      <td>61</td>\n",
       "      <td>79.6832</td>\n",
       "      <td>...</td>\n",
       "      <td>1</td>\n",
       "      <td>0</td>\n",
       "      <td>0</td>\n",
       "      <td>0</td>\n",
       "      <td>0</td>\n",
       "      <td>0</td>\n",
       "      <td>1</td>\n",
       "      <td>0</td>\n",
       "      <td>0</td>\n",
       "      <td>0</td>\n",
       "    </tr>\n",
       "    <tr>\n",
       "      <th>3</th>\n",
       "      <td>52630</td>\n",
       "      <td>P400741</td>\n",
       "      <td>8.0</td>\n",
       "      <td>42.761097</td>\n",
       "      <td>1958</td>\n",
       "      <td></td>\n",
       "      <td>0</td>\n",
       "      <td>1958</td>\n",
       "      <td>61</td>\n",
       "      <td>79.6832</td>\n",
       "      <td>...</td>\n",
       "      <td>1</td>\n",
       "      <td>0</td>\n",
       "      <td>0</td>\n",
       "      <td>0</td>\n",
       "      <td>0</td>\n",
       "      <td>0</td>\n",
       "      <td>1</td>\n",
       "      <td>0</td>\n",
       "      <td>0</td>\n",
       "      <td>0</td>\n",
       "    </tr>\n",
       "    <tr>\n",
       "      <th>4</th>\n",
       "      <td>10510</td>\n",
       "      <td>P20210</td>\n",
       "      <td>12.0</td>\n",
       "      <td>31.300481</td>\n",
       "      <td>2006</td>\n",
       "      <td></td>\n",
       "      <td>0</td>\n",
       "      <td>2006</td>\n",
       "      <td>139</td>\n",
       "      <td>98.6106</td>\n",
       "      <td>...</td>\n",
       "      <td>0</td>\n",
       "      <td>0</td>\n",
       "      <td>0</td>\n",
       "      <td>0</td>\n",
       "      <td>1</td>\n",
       "      <td>0</td>\n",
       "      <td>1</td>\n",
       "      <td>0</td>\n",
       "      <td>0</td>\n",
       "      <td>0</td>\n",
       "    </tr>\n",
       "  </tbody>\n",
       "</table>\n",
       "<p>5 rows × 91 columns</p>\n",
       "</div>"
      ],
      "text/plain": [
       "     FID     MOID  DIAMETER  PIPE_LENGTH  YEAR_INSTALLED LINING  LINE_YEAR  \\\n",
       "0  16420   P35881       8.0   861.090481            1952                 0   \n",
       "1  44465   P88079       8.0   749.511184            1965                 0   \n",
       "2  23810   P53764       8.0   171.554040            1958                 0   \n",
       "3  52630  P400741       8.0    42.761097            1958                 0   \n",
       "4  10510   P20210      12.0    31.300481            2006                 0   \n",
       "\n",
       "   INDEX_YR  ROUGHNESS     FLOW     ...      DESCRIPTION_Distribution  \\\n",
       "0      1952         86  23.4711     ...                             1   \n",
       "1      1965        122  56.2002     ...                             1   \n",
       "2      1958         61  79.6832     ...                             1   \n",
       "3      1958         61  79.6832     ...                             1   \n",
       "4      2006        139  98.6106     ...                             0   \n",
       "\n",
       "   DESCRIPTION_Experimental Pipe not in CIP  DESCRIPTION_Facility Pipe  \\\n",
       "0                                         0                          0   \n",
       "1                                         0                          0   \n",
       "2                                         0                          0   \n",
       "3                                         0                          0   \n",
       "4                                         0                          0   \n",
       "\n",
       "   DESCRIPTION_Proposed Main: Adamsville  DESCRIPTION_Transmission  \\\n",
       "0                                      0                         0   \n",
       "1                                      0                         0   \n",
       "2                                      0                         0   \n",
       "3                                      0                         0   \n",
       "4                                      0                         1   \n",
       "\n",
       "   P-ZONE_Chatt 1020  P-ZONE_Hemp 1175  P-ZONE_Hemp 1175 (moved)  \\\n",
       "0                  0                 1                         0   \n",
       "1                  0                 1                         0   \n",
       "2                  0                 1                         0   \n",
       "3                  0                 1                         0   \n",
       "4                  0                 1                         0   \n",
       "\n",
       "   P-ZONE_North 1225  P-ZONE_WTP  \n",
       "0                  0           0  \n",
       "1                  0           0  \n",
       "2                  0           0  \n",
       "3                  0           0  \n",
       "4                  0           0  \n",
       "\n",
       "[5 rows x 91 columns]"
      ]
     },
     "execution_count": 187,
     "metadata": {},
     "output_type": "execute_result"
    }
   ],
   "source": [
    "pipes_df3.head()"
   ]
  },
  {
   "cell_type": "code",
   "execution_count": 188,
   "metadata": {},
   "outputs": [
    {
     "name": "stdout",
     "output_type": "stream",
     "text": [
      "[dtype('int64'), dtype('O'), dtype('float64'), dtype('float64'), dtype('int64'), dtype('O'), dtype('int64'), dtype('int64'), dtype('int64'), dtype('float64'), dtype('float64'), dtype('float64'), dtype('float64'), dtype('float64'), dtype('float64'), dtype('float64'), dtype('float64'), dtype('float64'), dtype('float64'), dtype('float64'), dtype('float64'), dtype('float64'), dtype('float64'), dtype('float64'), dtype('float64'), dtype('float64'), dtype('float64'), dtype('float64'), dtype('float64'), dtype('float64'), dtype('int64'), dtype('float64'), dtype('float64'), dtype('float64'), dtype('float64'), dtype('float64'), dtype('float64'), dtype('float64'), dtype('float64'), dtype('float64'), dtype('float64'), dtype('float64'), dtype('O'), dtype('O'), dtype('<M8[ns]'), dtype('<M8[ns]'), dtype('<M8[ns]'), dtype('int64'), dtype('O'), dtype('O'), dtype('O'), dtype('int64'), dtype('uint8'), dtype('uint8'), dtype('uint8'), dtype('uint8'), dtype('uint8'), dtype('uint8'), dtype('uint8'), dtype('uint8'), dtype('uint8'), dtype('uint8'), dtype('uint8'), dtype('uint8'), dtype('uint8'), dtype('uint8'), dtype('uint8'), dtype('uint8'), dtype('uint8'), dtype('uint8'), dtype('uint8'), dtype('uint8'), dtype('uint8'), dtype('uint8'), dtype('uint8'), dtype('uint8'), dtype('uint8'), dtype('uint8'), dtype('uint8'), dtype('uint8'), dtype('uint8'), dtype('uint8'), dtype('uint8'), dtype('uint8'), dtype('uint8'), dtype('uint8'), dtype('uint8'), dtype('uint8'), dtype('uint8'), dtype('uint8'), dtype('uint8')]\n"
     ]
    }
   ],
   "source": [
    "print([t for t in pipes_df3.dtypes])"
   ]
  },
  {
   "cell_type": "code",
   "execution_count": 189,
   "metadata": {},
   "outputs": [],
   "source": [
    "teststring = \"1/12/2018\""
   ]
  },
  {
   "cell_type": "code",
   "execution_count": 190,
   "metadata": {},
   "outputs": [
    {
     "data": {
      "text/plain": [
       "2015"
      ]
     },
     "execution_count": 190,
     "metadata": {},
     "output_type": "execute_result"
    }
   ],
   "source": [
    "pipes_df3.iloc[1]['ReportDate'].year"
   ]
  },
  {
   "cell_type": "code",
   "execution_count": 191,
   "metadata": {},
   "outputs": [],
   "source": [
    "tempAgeList = []\n",
    "for row in np.arange(len(pipes_df3['FID'])):\n",
    "    try:\n",
    "        value = int(pipes_df3.iloc[row]['ReportDate'].year) - pipes_df3.iloc[row]['YEAR_INSTALLED']\n",
    "    except:\n",
    "        value = 2018 - pipes_df3.iloc[row]['YEAR_INSTALLED']\n",
    "    tempAgeList.append(value)"
   ]
  },
  {
   "cell_type": "code",
   "execution_count": 192,
   "metadata": {},
   "outputs": [
    {
     "data": {
      "text/plain": [
       "56012"
      ]
     },
     "execution_count": 192,
     "metadata": {},
     "output_type": "execute_result"
    }
   ],
   "source": [
    "len(tempAgeList)"
   ]
  },
  {
   "cell_type": "code",
   "execution_count": 193,
   "metadata": {},
   "outputs": [],
   "source": [
    "pipes_df3['Age']=tempAgeList"
   ]
  },
  {
   "cell_type": "code",
   "execution_count": 194,
   "metadata": {},
   "outputs": [
    {
     "data": {
      "text/plain": [
       "0         62\n",
       "1         50\n",
       "2         57\n",
       "3         57\n",
       "4         11\n",
       "5         11\n",
       "6         47\n",
       "7         47\n",
       "8         76\n",
       "9         51\n",
       "10        21\n",
       "11       119\n",
       "12        60\n",
       "13        62\n",
       "14        62\n",
       "15        27\n",
       "16        48\n",
       "17        49\n",
       "18        18\n",
       "19        77\n",
       "20        78\n",
       "21        66\n",
       "22       113\n",
       "23        61\n",
       "24        59\n",
       "25        59\n",
       "26        59\n",
       "27        59\n",
       "28        63\n",
       "29        47\n",
       "        ... \n",
       "55982     48\n",
       "55983     48\n",
       "55984     47\n",
       "55985     47\n",
       "55986     47\n",
       "55987     46\n",
       "55988     45\n",
       "55989     45\n",
       "55990     45\n",
       "55991     45\n",
       "55992     44\n",
       "55993     44\n",
       "55994     44\n",
       "55995     43\n",
       "55996     43\n",
       "55997     43\n",
       "55998     41\n",
       "55999     40\n",
       "56000     40\n",
       "56001     40\n",
       "56002     40\n",
       "56003     39\n",
       "56004     39\n",
       "56005     39\n",
       "56006     37\n",
       "56007     24\n",
       "56008     17\n",
       "56009     17\n",
       "56010     -6\n",
       "56011     -7\n",
       "Name: Age, Length: 56012, dtype: int64"
      ]
     },
     "execution_count": 194,
     "metadata": {},
     "output_type": "execute_result"
    }
   ],
   "source": [
    "pipes_df3['Age']"
   ]
  },
  {
   "cell_type": "code",
   "execution_count": 195,
   "metadata": {},
   "outputs": [
    {
     "data": {
      "text/plain": [
       "0        1\n",
       "1        1\n",
       "2        1\n",
       "3        1\n",
       "4        1\n",
       "5        1\n",
       "6        1\n",
       "7        1\n",
       "8        1\n",
       "9        1\n",
       "10       1\n",
       "11       1\n",
       "12       1\n",
       "13       1\n",
       "14       1\n",
       "15       1\n",
       "16       1\n",
       "17       1\n",
       "18       1\n",
       "19       1\n",
       "20       1\n",
       "21       1\n",
       "22       1\n",
       "23       1\n",
       "24       1\n",
       "25       1\n",
       "26       1\n",
       "27       1\n",
       "28       1\n",
       "29       1\n",
       "        ..\n",
       "55982    0\n",
       "55983    0\n",
       "55984    0\n",
       "55985    0\n",
       "55986    0\n",
       "55987    0\n",
       "55988    0\n",
       "55989    0\n",
       "55990    0\n",
       "55991    0\n",
       "55992    0\n",
       "55993    0\n",
       "55994    0\n",
       "55995    0\n",
       "55996    0\n",
       "55997    0\n",
       "55998    0\n",
       "55999    0\n",
       "56000    0\n",
       "56001    0\n",
       "56002    0\n",
       "56003    0\n",
       "56004    0\n",
       "56005    0\n",
       "56006    0\n",
       "56007    0\n",
       "56008    0\n",
       "56009    0\n",
       "56010    0\n",
       "56011    0\n",
       "Name: FAILURE, Length: 56012, dtype: int64"
      ]
     },
     "execution_count": 195,
     "metadata": {},
     "output_type": "execute_result"
    }
   ],
   "source": [
    "pipes_df3['FAILURE']"
   ]
  },
  {
   "cell_type": "code",
   "execution_count": 196,
   "metadata": {},
   "outputs": [
    {
     "data": {
      "text/plain": [
       "array(['Ub', 'ReD', 'UsE', 'CeC2', 'UrE', 'UfC2', 'AgC', 'PaD2', 'GaE',\n",
       "       'UdC', 'UpC2', 'GaF', 'CaA', 'WbA', 'MdC2', 'UgE', 'CeB2', 'AgB',\n",
       "       'UmC2', 'PgC2', 'UeE', 'UcC', 'CpA', 'Ua', 'ArE', 'RoE', 'W',\n",
       "       'ReE', 'WcB', 'AaB', 'CrA', 'PaB2', 'Pt', 'AaC', 'LaD2', 'RoF',\n",
       "       'WmD', 'MdB2', 'PaE2', 'EnC', 'HbC', 'AaA', 'BaA'], dtype=object)"
      ]
     },
     "execution_count": 196,
     "metadata": {},
     "output_type": "execute_result"
    }
   ],
   "source": [
    "pipes_df3['MUSYM'].unique()"
   ]
  },
  {
   "cell_type": "code",
   "execution_count": 197,
   "metadata": {},
   "outputs": [],
   "source": [
    "inputColumns = ['DIAMETER', 'PIPE_LENGTH','ROUGHNESS', 'FLOW', 'VELOCITY', 'HEADLOSS',\n",
    "       'HL1000', 'MAX_FLOW', 'MIN_FLOW', 'AVE_FLOW', 'MAX_VELOCITY',\n",
    "       'MIN_VELOCITY', 'AVE_VELOCITY', 'MAX_HEADLOSS', 'MIN_HEADLOSS',\n",
    "       'AVE_HEADLOSS', 'ELEVATION','RUN_ELEV', 'DEMAND',\n",
    "       'HEAD', 'PRESSURE', 'MAX_HEAD', 'MIN_HEAD', 'AVE_HEAD', 'MAX_PRESS',\n",
    "       'MIN_PRESS', 'AVE_PRESS', 'DIFF_PRESS','MATERIAL_AMTYT',\n",
    "       'MATERIAL_CI', 'MATERIAL_CO', 'MATERIAL_COP', 'MATERIAL_CPP',\n",
    "       'MATERIAL_Copper', 'MATERIAL_DEL', 'MATERIAL_DIP', 'MATERIAL_EARGEO',\n",
    "       'MATERIAL_GP', 'MATERIAL_HDPE', 'MATERIAL_L.J.', 'MATERIAL_M.J.',\n",
    "       'MATERIAL_MCW', 'MATERIAL_OTH', 'MATERIAL_PE', 'MATERIAL_PP',\n",
    "       'MATERIAL_PVC', 'MATERIAL_R.L.J.', 'MATERIAL_RCP', 'MATERIAL_SP',\n",
    "       'MATERIAL_ST', 'MATERIAL_T.D', 'MATERIAL_T.D.', 'MATERIAL_TTE',\n",
    "       'MATERIAL_TYT', 'MATERIAL_UNK', 'MATERIAL_W.I.','Age']"
   ]
  },
  {
   "cell_type": "code",
   "execution_count": 198,
   "metadata": {},
   "outputs": [],
   "source": [
    "import random"
   ]
  },
  {
   "cell_type": "code",
   "execution_count": 199,
   "metadata": {},
   "outputs": [],
   "source": [
    "X_train, X_test, y_train, y_test = train_test_split(pipes_df3[inputColumns],pipes_df3['FAILURE'],stratify=pipes_df3['FAILURE'],test_size = 0.3, random_state=42)"
   ]
  },
  {
   "cell_type": "code",
   "execution_count": 200,
   "metadata": {},
   "outputs": [],
   "source": [
    "model = LogisticRegression()"
   ]
  },
  {
   "cell_type": "code",
   "execution_count": 203,
   "metadata": {},
   "outputs": [
    {
     "data": {
      "text/plain": [
       "0.9388135074474597"
      ]
     },
     "execution_count": 203,
     "metadata": {},
     "output_type": "execute_result"
    }
   ],
   "source": [
    "model.fit(X_train,y_train)\n",
    "model.score(X_train,y_train)"
   ]
  },
  {
   "cell_type": "code",
   "execution_count": 204,
   "metadata": {},
   "outputs": [
    {
     "data": {
      "text/plain": [
       "0.9390621280647465"
      ]
     },
     "execution_count": 204,
     "metadata": {},
     "output_type": "execute_result"
    }
   ],
   "source": [
    "model.score(X_test,y_test)"
   ]
  },
  {
   "cell_type": "code",
   "execution_count": 205,
   "metadata": {},
   "outputs": [],
   "source": [
    "from sklearn.preprocessing import MinMaxScaler\n",
    "X_minmax = MinMaxScaler().fit(X_train)\n",
    "X_train_minmax = X_minmax.transform(X_train)\n",
    "X_test_minmax = X_minmax.transform(X_test)\n"
   ]
  },
  {
   "cell_type": "code",
   "execution_count": null,
   "metadata": {},
   "outputs": [],
   "source": []
  },
  {
   "cell_type": "code",
   "execution_count": 206,
   "metadata": {},
   "outputs": [],
   "source": [
    "X_train_false = X_train[y_train==0].sample(n=sum(y_train))\n",
    "X_train_true = X_train[y_train==1].sample(n=sum(y_train))"
   ]
  },
  {
   "cell_type": "code",
   "execution_count": 207,
   "metadata": {},
   "outputs": [],
   "source": [
    "X_train_sampled = X_train_true.append(X_train_false)\n",
    "y_train_sampled = y_train.loc[X_train_sampled.index]"
   ]
  },
  {
   "cell_type": "code",
   "execution_count": 208,
   "metadata": {},
   "outputs": [
    {
     "data": {
      "text/plain": [
       "(4776,)"
      ]
     },
     "execution_count": 208,
     "metadata": {},
     "output_type": "execute_result"
    }
   ],
   "source": [
    "y_train_sampled.shape"
   ]
  },
  {
   "cell_type": "code",
   "execution_count": 209,
   "metadata": {},
   "outputs": [],
   "source": [
    "X_train_minmax = X_minmax.transform(X_train_sampled)\n"
   ]
  },
  {
   "cell_type": "code",
   "execution_count": 210,
   "metadata": {},
   "outputs": [
    {
     "data": {
      "text/plain": [
       "LogisticRegression(C=1.0, class_weight=None, dual=False, fit_intercept=True,\n",
       "          intercept_scaling=1, max_iter=100, multi_class='ovr', n_jobs=1,\n",
       "          penalty='l2', random_state=None, solver='liblinear', tol=0.0001,\n",
       "          verbose=0, warm_start=False)"
      ]
     },
     "execution_count": 210,
     "metadata": {},
     "output_type": "execute_result"
    }
   ],
   "source": [
    "model.fit(X_train_minmax,y_train_sampled)"
   ]
  },
  {
   "cell_type": "code",
   "execution_count": 211,
   "metadata": {},
   "outputs": [
    {
     "data": {
      "text/plain": [
       "0.7010050251256281"
      ]
     },
     "execution_count": 211,
     "metadata": {},
     "output_type": "execute_result"
    }
   ],
   "source": [
    "model.score(X_train_minmax,y_train_sampled)"
   ]
  },
  {
   "cell_type": "code",
   "execution_count": 212,
   "metadata": {},
   "outputs": [
    {
     "data": {
      "text/plain": [
       "0.6882885027374435"
      ]
     },
     "execution_count": 212,
     "metadata": {},
     "output_type": "execute_result"
    }
   ],
   "source": [
    "model.score(X_test_minmax,y_test)"
   ]
  },
  {
   "cell_type": "code",
   "execution_count": null,
   "metadata": {},
   "outputs": [],
   "source": [
    "model.score(X_test,y_test)"
   ]
  },
  {
   "cell_type": "code",
   "execution_count": 115,
   "metadata": {},
   "outputs": [
    {
     "data": {
      "text/plain": [
       "57"
      ]
     },
     "execution_count": 115,
     "metadata": {},
     "output_type": "execute_result"
    }
   ],
   "source": [
    "len(model.coef_[0])"
   ]
  },
  {
   "cell_type": "code",
   "execution_count": 116,
   "metadata": {},
   "outputs": [
    {
     "data": {
      "text/plain": [
       "57"
      ]
     },
     "execution_count": 116,
     "metadata": {},
     "output_type": "execute_result"
    }
   ],
   "source": [
    "len(inputColumns)"
   ]
  },
  {
   "cell_type": "code",
   "execution_count": 213,
   "metadata": {},
   "outputs": [
    {
     "data": {
      "text/plain": [
       "array([-4.92427591e-01,  1.03410234e+01, -2.27007796e+00, -2.32105496e-01,\n",
       "        7.20584408e-01,  3.22237239e-01,  4.73246594e-02, -7.89691824e-02,\n",
       "        1.00848962e+00, -1.34226891e-03,  6.73203504e-01,  1.38676151e+00,\n",
       "        9.18363688e-01,  7.84303637e-01,  2.12692609e-01,  6.42446418e-01,\n",
       "       -2.68362829e+00,  7.67803076e-01,  1.61160405e-01, -1.85951096e-02,\n",
       "       -2.03908161e+00,  8.38048437e-01,  1.15287238e+00, -7.02740011e-02,\n",
       "        4.36702779e-01,  1.63357689e+00, -1.49646258e+00, -1.60236966e+00,\n",
       "        0.00000000e+00,  3.17941822e-01,  2.02345732e+00,  0.00000000e+00,\n",
       "       -1.42181861e+00,  0.00000000e+00,  2.31048016e-01, -1.32894364e-01,\n",
       "        0.00000000e+00,  0.00000000e+00,  1.21044121e+00, -1.09325876e-01,\n",
       "       -7.71640193e-02, -4.07494883e-01, -5.70078943e-01,  0.00000000e+00,\n",
       "        0.00000000e+00,  0.00000000e+00,  0.00000000e+00,  1.17341076e+00,\n",
       "        0.00000000e+00,  5.76277290e-01,  0.00000000e+00, -5.94942763e-01,\n",
       "        4.70046336e-01,  6.58554191e-02, -1.06315615e-01,  4.62895480e-04,\n",
       "       -3.14640318e+00])"
      ]
     },
     "execution_count": 213,
     "metadata": {},
     "output_type": "execute_result"
    }
   ],
   "source": [
    "model.coef_[0]"
   ]
  },
  {
   "cell_type": "code",
   "execution_count": 218,
   "metadata": {},
   "outputs": [
    {
     "name": "stdout",
     "output_type": "stream",
     "text": [
      "             precision    recall  f1-score   support\n",
      "\n",
      "          0       0.97      0.69      0.81     15780\n",
      "          1       0.13      0.69      0.21      1024\n",
      "\n",
      "avg / total       0.92      0.69      0.77     16804\n",
      "\n"
     ]
    }
   ],
   "source": [
    "from sklearn.metrics import classification_report\n",
    "print(classification_report(y_test, model.predict(X_test_minmax)))"
   ]
  },
  {
   "cell_type": "code",
   "execution_count": 219,
   "metadata": {},
   "outputs": [
    {
     "name": "stdout",
     "output_type": "stream",
     "text": [
      "[[10861  4919]\n",
      " [  319   705]]\n"
     ]
    }
   ],
   "source": [
    "from sklearn.metrics import confusion_matrix\n",
    "print(confusion_matrix(y_test, model.predict(X_test_minmax)))"
   ]
  },
  {
   "cell_type": "code",
   "execution_count": 215,
   "metadata": {},
   "outputs": [],
   "source": [
    "zipped = zip(model.coef_[0],inputColumns)"
   ]
  },
  {
   "cell_type": "code",
   "execution_count": 216,
   "metadata": {},
   "outputs": [
    {
     "data": {
      "text/plain": [
       "[(-0.492427590827416, 'DIAMETER'),\n",
       " (10.341023386112086, 'PIPE_LENGTH'),\n",
       " (-2.2700779564600193, 'ROUGHNESS'),\n",
       " (-0.23210549623016039, 'FLOW'),\n",
       " (0.7205844075831638, 'VELOCITY'),\n",
       " (0.3222372393066158, 'HEADLOSS'),\n",
       " (0.04732465942520031, 'HL1000'),\n",
       " (-0.07896918241260457, 'MAX_FLOW'),\n",
       " (1.0084896217238928, 'MIN_FLOW'),\n",
       " (-0.0013422689083023797, 'AVE_FLOW'),\n",
       " (0.6732035040246637, 'MAX_VELOCITY'),\n",
       " (1.3867615082944595, 'MIN_VELOCITY'),\n",
       " (0.9183636881919685, 'AVE_VELOCITY'),\n",
       " (0.7843036367728268, 'MAX_HEADLOSS'),\n",
       " (0.21269260859789244, 'MIN_HEADLOSS'),\n",
       " (0.6424464181031179, 'AVE_HEADLOSS'),\n",
       " (-2.6836282910385107, 'ELEVATION'),\n",
       " (0.7678030762015707, 'RUN_ELEV'),\n",
       " (0.16116040542490295, 'DEMAND'),\n",
       " (-0.018595109638400945, 'HEAD'),\n",
       " (-2.039081606898418, 'PRESSURE'),\n",
       " (0.8380484374419508, 'MAX_HEAD'),\n",
       " (1.1528723844059898, 'MIN_HEAD'),\n",
       " (-0.07027400112885278, 'AVE_HEAD'),\n",
       " (0.4367027785505879, 'MAX_PRESS'),\n",
       " (1.6335768867908504, 'MIN_PRESS'),\n",
       " (-1.4964625765500115, 'AVE_PRESS'),\n",
       " (-1.602369655390587, 'DIFF_PRESS'),\n",
       " (0.0, 'MATERIAL_AMTYT'),\n",
       " (0.31794182155829276, 'MATERIAL_CI'),\n",
       " (2.0234573195794927, 'MATERIAL_CO'),\n",
       " (0.0, 'MATERIAL_COP'),\n",
       " (-1.4218186149294667, 'MATERIAL_CPP'),\n",
       " (0.0, 'MATERIAL_Copper'),\n",
       " (0.2310480155165343, 'MATERIAL_DEL'),\n",
       " (-0.13289436371937857, 'MATERIAL_DIP'),\n",
       " (0.0, 'MATERIAL_EARGEO'),\n",
       " (0.0, 'MATERIAL_GP'),\n",
       " (1.2104412062606877, 'MATERIAL_HDPE'),\n",
       " (-0.10932587597627409, 'MATERIAL_L.J.'),\n",
       " (-0.07716401933088751, 'MATERIAL_M.J.'),\n",
       " (-0.4074948834615449, 'MATERIAL_MCW'),\n",
       " (-0.5700789428912418, 'MATERIAL_OTH'),\n",
       " (0.0, 'MATERIAL_PE'),\n",
       " (0.0, 'MATERIAL_PP'),\n",
       " (0.0, 'MATERIAL_PVC'),\n",
       " (0.0, 'MATERIAL_R.L.J.'),\n",
       " (1.1734107555395028, 'MATERIAL_RCP'),\n",
       " (0.0, 'MATERIAL_SP'),\n",
       " (0.5762772898244984, 'MATERIAL_ST'),\n",
       " (0.0, 'MATERIAL_T.D'),\n",
       " (-0.5949427626959771, 'MATERIAL_T.D.'),\n",
       " (0.47004633586773675, 'MATERIAL_TTE'),\n",
       " (0.06585541913472141, 'MATERIAL_TYT'),\n",
       " (-0.10631561525149207, 'MATERIAL_UNK'),\n",
       " (0.0004628954798507829, 'MATERIAL_W.I.'),\n",
       " (-3.146403178302069, 'Age')]"
      ]
     },
     "execution_count": 216,
     "metadata": {},
     "output_type": "execute_result"
    }
   ],
   "source": [
    "list(zipped)"
   ]
  },
  {
   "cell_type": "code",
   "execution_count": 125,
   "metadata": {},
   "outputs": [
    {
     "data": {
      "text/plain": [
       "0.05357142857142857"
      ]
     },
     "execution_count": 125,
     "metadata": {},
     "output_type": "execute_result"
    }
   ],
   "source": [
    "3/56"
   ]
  },
  {
   "cell_type": "code",
   "execution_count": null,
   "metadata": {},
   "outputs": [],
   "source": [
    "pipes_df3.iloc[pipes_df3]"
   ]
  }
 ],
 "metadata": {
  "kernelspec": {
   "display_name": "Python [default]",
   "language": "python",
   "name": "python3"
  },
  "language_info": {
   "codemirror_mode": {
    "name": "ipython",
    "version": 3
   },
   "file_extension": ".py",
   "mimetype": "text/x-python",
   "name": "python",
   "nbconvert_exporter": "python",
   "pygments_lexer": "ipython3",
   "version": "3.6.5"
  }
 },
 "nbformat": 4,
 "nbformat_minor": 2
}
