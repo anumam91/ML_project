{
 "cells": [
  {
   "cell_type": "markdown",
   "metadata": {},
   "source": [
    "## Imports"
   ]
  },
  {
   "cell_type": "code",
   "execution_count": 1,
   "metadata": {},
   "outputs": [
    {
     "name": "stderr",
     "output_type": "stream",
     "text": [
      "C:\\ProgramData\\Anaconda3\\lib\\site-packages\\h5py\\__init__.py:36: FutureWarning: Conversion of the second argument of issubdtype from `float` to `np.floating` is deprecated. In future, it will be treated as `np.float64 == np.dtype(float).type`.\n",
      "  from ._conv import register_converters as _register_converters\n",
      "Using TensorFlow backend.\n"
     ]
    }
   ],
   "source": [
    "#standard useful libraries\n",
    "import pandas as pd\n",
    "import numpy as np\n",
    "import random\n",
    "\n",
    "#model selection\n",
    "from sklearn.model_selection import GridSearchCV\n",
    "from sklearn.model_selection import StratifiedKFold\n",
    "from sklearn.model_selection import train_test_split\n",
    "from sklearn.preprocessing import MinMaxScaler\n",
    "\n",
    "#metrics\n",
    "from sklearn.metrics import classification_report\n",
    "from sklearn.metrics import confusion_matrix\n",
    "\n",
    "#models\n",
    "from sklearn.ensemble import RandomForestClassifier\n",
    "from sklearn.linear_model import LogisticRegression\n",
    "\n",
    "#neural network dependencies\n",
    "import tensorflow as tf\n",
    "from keras.models import Sequential\n",
    "from keras.utils import to_categorical\n",
    "from keras.layers import Dense"
   ]
  },
  {
   "cell_type": "markdown",
   "metadata": {},
   "source": [
    "# Loading Data"
   ]
  },
  {
   "cell_type": "code",
   "execution_count": 2,
   "metadata": {},
   "outputs": [
    {
     "name": "stderr",
     "output_type": "stream",
     "text": [
      "C:\\ProgramData\\Anaconda3\\lib\\site-packages\\IPython\\core\\interactiveshell.py:2785: DtypeWarning: Columns (57,59,60,61) have mixed types. Specify dtype option on import or set low_memory=False.\n",
      "  interactivity=interactivity, compiler=compiler, result=result)\n"
     ]
    },
    {
     "data": {
      "text/html": [
       "<div>\n",
       "<style scoped>\n",
       "    .dataframe tbody tr th:only-of-type {\n",
       "        vertical-align: middle;\n",
       "    }\n",
       "\n",
       "    .dataframe tbody tr th {\n",
       "        vertical-align: top;\n",
       "    }\n",
       "\n",
       "    .dataframe thead th {\n",
       "        text-align: right;\n",
       "    }\n",
       "</style>\n",
       "<table border=\"1\" class=\"dataframe\">\n",
       "  <thead>\n",
       "    <tr style=\"text-align: right;\">\n",
       "      <th></th>\n",
       "      <th>FID</th>\n",
       "      <th>MOID</th>\n",
       "      <th>DIAMETER</th>\n",
       "      <th>PIPE_LENGTH</th>\n",
       "      <th>MATERIAL</th>\n",
       "      <th>DESCRIPTION</th>\n",
       "      <th>YEAR_INSTALLED</th>\n",
       "      <th>PRESSURE_ZONE</th>\n",
       "      <th>LINING</th>\n",
       "      <th>LINE_YEAR</th>\n",
       "      <th>...</th>\n",
       "      <th>WORK_ORDER_NUMBER</th>\n",
       "      <th>Comments</th>\n",
       "      <th>ReportDate</th>\n",
       "      <th>StartDateT</th>\n",
       "      <th>CompletedD</th>\n",
       "      <th>ReportedY</th>\n",
       "      <th>SrvcRqst_1</th>\n",
       "      <th>MATERIAL_1</th>\n",
       "      <th>MUSYM</th>\n",
       "      <th>FAILURE</th>\n",
       "    </tr>\n",
       "  </thead>\n",
       "  <tbody>\n",
       "    <tr>\n",
       "      <th>0</th>\n",
       "      <td>16420</td>\n",
       "      <td>P35881</td>\n",
       "      <td>8.0</td>\n",
       "      <td>861.090481</td>\n",
       "      <td>M.J.</td>\n",
       "      <td>Distribution</td>\n",
       "      <td>1952</td>\n",
       "      <td>Hemp 1175</td>\n",
       "      <td></td>\n",
       "      <td>0</td>\n",
       "      <td>...</td>\n",
       "      <td>1143689</td>\n",
       "      <td>PER UNIT 819\\n\\rREQUEST 1 6X12 PLATE AND 4 BAG...</td>\n",
       "      <td>2014-10-25</td>\n",
       "      <td>2014-11-16</td>\n",
       "      <td>2014-11-16</td>\n",
       "      <td>2014</td>\n",
       "      <td>Water Request</td>\n",
       "      <td>CAS</td>\n",
       "      <td>Ub</td>\n",
       "      <td>1</td>\n",
       "    </tr>\n",
       "    <tr>\n",
       "      <th>1</th>\n",
       "      <td>44465</td>\n",
       "      <td>P88079</td>\n",
       "      <td>8.0</td>\n",
       "      <td>749.511184</td>\n",
       "      <td>TYT</td>\n",
       "      <td>Distribution</td>\n",
       "      <td>1965</td>\n",
       "      <td>Hemp 1175</td>\n",
       "      <td></td>\n",
       "      <td>0</td>\n",
       "      <td>...</td>\n",
       "      <td>1311148</td>\n",
       "      <td>MAIN BREAK</td>\n",
       "      <td>2015-08-18</td>\n",
       "      <td>2015-08-18</td>\n",
       "      <td>2015-08-18</td>\n",
       "      <td>2015</td>\n",
       "      <td>Water Request</td>\n",
       "      <td>DIP</td>\n",
       "      <td>ReD</td>\n",
       "      <td>1</td>\n",
       "    </tr>\n",
       "    <tr>\n",
       "      <th>2</th>\n",
       "      <td>23810</td>\n",
       "      <td>P53764</td>\n",
       "      <td>8.0</td>\n",
       "      <td>171.554040</td>\n",
       "      <td>M.J.</td>\n",
       "      <td>Distribution</td>\n",
       "      <td>1958</td>\n",
       "      <td>Hemp 1175</td>\n",
       "      <td></td>\n",
       "      <td>0</td>\n",
       "      <td>...</td>\n",
       "      <td>1323748</td>\n",
       "      <td>PER JONATHAN WEBB THERE IS A MAIN BREAK AT THI...</td>\n",
       "      <td>2015-09-11</td>\n",
       "      <td>2015-09-12</td>\n",
       "      <td>2015-09-12</td>\n",
       "      <td>2015</td>\n",
       "      <td>Water Pressure Complaint</td>\n",
       "      <td>DIP</td>\n",
       "      <td>Ub</td>\n",
       "      <td>1</td>\n",
       "    </tr>\n",
       "    <tr>\n",
       "      <th>3</th>\n",
       "      <td>52630</td>\n",
       "      <td>P400741</td>\n",
       "      <td>8.0</td>\n",
       "      <td>42.761097</td>\n",
       "      <td>M.J.</td>\n",
       "      <td>Distribution</td>\n",
       "      <td>1958</td>\n",
       "      <td>Hemp 1175</td>\n",
       "      <td></td>\n",
       "      <td>0</td>\n",
       "      <td>...</td>\n",
       "      <td>1323748</td>\n",
       "      <td>PER JONATHAN WEBB THERE IS A MAIN BREAK AT THI...</td>\n",
       "      <td>2015-09-11</td>\n",
       "      <td>2015-09-12</td>\n",
       "      <td>2015-09-12</td>\n",
       "      <td>2015</td>\n",
       "      <td>Water Pressure Complaint</td>\n",
       "      <td>DIP</td>\n",
       "      <td>Ub</td>\n",
       "      <td>1</td>\n",
       "    </tr>\n",
       "    <tr>\n",
       "      <th>4</th>\n",
       "      <td>10510</td>\n",
       "      <td>P20210</td>\n",
       "      <td>12.0</td>\n",
       "      <td>31.300481</td>\n",
       "      <td>DIP</td>\n",
       "      <td>Transmission</td>\n",
       "      <td>2006</td>\n",
       "      <td>Hemp 1175</td>\n",
       "      <td></td>\n",
       "      <td>0</td>\n",
       "      <td>...</td>\n",
       "      <td>1628288</td>\n",
       "      <td>PER J. SKINNER MAIN BREAK AT LOCATION\\nCall ta...</td>\n",
       "      <td>2017-01-22</td>\n",
       "      <td>2017-02-28</td>\n",
       "      <td>2017-02-28</td>\n",
       "      <td>2017</td>\n",
       "      <td>Turn off burst pipe</td>\n",
       "      <td>DIP</td>\n",
       "      <td>Ub</td>\n",
       "      <td>1</td>\n",
       "    </tr>\n",
       "  </tbody>\n",
       "</table>\n",
       "<p>5 rows × 67 columns</p>\n",
       "</div>"
      ],
      "text/plain": [
       "     FID     MOID  DIAMETER  PIPE_LENGTH MATERIAL   DESCRIPTION  \\\n",
       "0  16420   P35881       8.0   861.090481     M.J.  Distribution   \n",
       "1  44465   P88079       8.0   749.511184      TYT  Distribution   \n",
       "2  23810   P53764       8.0   171.554040     M.J.  Distribution   \n",
       "3  52630  P400741       8.0    42.761097     M.J.  Distribution   \n",
       "4  10510   P20210      12.0    31.300481      DIP  Transmission   \n",
       "\n",
       "   YEAR_INSTALLED PRESSURE_ZONE LINING  LINE_YEAR   ...     WORK_ORDER_NUMBER  \\\n",
       "0            1952     Hemp 1175                 0   ...               1143689   \n",
       "1            1965     Hemp 1175                 0   ...               1311148   \n",
       "2            1958     Hemp 1175                 0   ...               1323748   \n",
       "3            1958     Hemp 1175                 0   ...               1323748   \n",
       "4            2006     Hemp 1175                 0   ...               1628288   \n",
       "\n",
       "                                            Comments  ReportDate  StartDateT  \\\n",
       "0  PER UNIT 819\\n\\rREQUEST 1 6X12 PLATE AND 4 BAG...  2014-10-25  2014-11-16   \n",
       "1                                         MAIN BREAK  2015-08-18  2015-08-18   \n",
       "2  PER JONATHAN WEBB THERE IS A MAIN BREAK AT THI...  2015-09-11  2015-09-12   \n",
       "3  PER JONATHAN WEBB THERE IS A MAIN BREAK AT THI...  2015-09-11  2015-09-12   \n",
       "4  PER J. SKINNER MAIN BREAK AT LOCATION\\nCall ta...  2017-01-22  2017-02-28   \n",
       "\n",
       "   CompletedD  ReportedY                SrvcRqst_1  MATERIAL_1  MUSYM  FAILURE  \n",
       "0  2014-11-16       2014             Water Request         CAS     Ub        1  \n",
       "1  2015-08-18       2015             Water Request         DIP    ReD        1  \n",
       "2  2015-09-12       2015  Water Pressure Complaint         DIP     Ub        1  \n",
       "3  2015-09-12       2015  Water Pressure Complaint         DIP     Ub        1  \n",
       "4  2017-02-28       2017       Turn off burst pipe         DIP     Ub        1  \n",
       "\n",
       "[5 rows x 67 columns]"
      ]
     },
     "execution_count": 2,
     "metadata": {},
     "output_type": "execute_result"
    }
   ],
   "source": [
    "#Loading data from csv\n",
    "pipes_df = pd.read_csv(\"Pipe_data.csv\")\n",
    "pipes_df.head()"
   ]
  },
  {
   "cell_type": "code",
   "execution_count": 3,
   "metadata": {},
   "outputs": [],
   "source": [
    "#get dummies for columns where applicable--MATERIAL, DESCRIPTION, PRESSURE_ZONE\n",
    "pipes_df = pd.concat([pipes_df, pd.get_dummies(pipes_df['MATERIAL'], prefix='MATERIAL')], axis=1)\n",
    "pipes_df = pd.concat([pipes_df, pd.get_dummies(pipes_df['DESCRIPTION'], prefix='DESCRIPTION')], axis=1); \n",
    "pipes_df = pd.concat([pipes_df, pd.get_dummies(pipes_df['PRESSURE_ZONE'], prefix='P-ZONE')], axis=1);\n",
    "\n",
    "#drop original columns--MATERIAL, DESCRIPTION, PRESSURE_ZONE\n",
    "pipes_df2 = pipes_df.drop(columns={ 'MATERIAL',\n",
    " 'DESCRIPTION',\n",
    " 'PRESSURE_ZONE',})\n",
    "\n",
    "#Condense correlating PATTERN + DEMAND columns into 1 column\n",
    "pipes_df2 = pipes_df2.rename(columns={\"DEMAND1\":\"Demand_RES\", \"DEMAND2\":\"Demand_NON-RES\",\"DEMAND3\":\"Demand_WHOLE\",\"DEMAND4\":\"Demand_FLUSH\",\"DEMAND5\":\"Demand_UFW\",\n",
    "                                     \"DEMAND6\":\"Demand_RES-DISTR\",\"DEMAND7\":\"Demand_NON RES-DISTR\",\"DEMAND8\":\"Demand_2030-CWTP-NS\"})\n",
    "\n",
    "#Delete unneeded columns\n",
    "#NOTE to Team: I didn’t see any data at all in the ‘DEMAND9’, ‘PATTERN9’, ‘DEMAND10’, ‘PATTERN10’ columns,so I deleted all of these columns\n",
    "pipes_df3 = pipes_df2.drop(columns={\"PATTERN1\", \"PATTERN2\", \"PATTERN3\", \"PATTERN4\", \"PATTERN5\", \"PATTERN6\", \"PATTERN7\", \"PATTERN8\", \"PATTERN9\", \"PATTERN10\", \"DEMAND9\", \"DEMAND10\"})"
   ]
  },
  {
   "cell_type": "code",
   "execution_count": 4,
   "metadata": {},
   "outputs": [],
   "source": [
    "#Create new Age column\n",
    "#Age is being calculated as 2018 - installation year if no report was made\n",
    "#Report year - installation year otherwise\n",
    "tempAgeList = []\n",
    "for row in np.arange(len(pipes_df3['FID'])):\n",
    "    try:\n",
    "        value = int(pipes_df3.iloc[row]['ReportDate'].year) - pipes_df3.iloc[row]['YEAR_INSTALLED']\n",
    "    except:\n",
    "        value = 2018 - pipes_df3.iloc[row]['YEAR_INSTALLED']\n",
    "    tempAgeList.append(value)\n",
    "pipes_df3['Age']=tempAgeList"
   ]
  },
  {
   "cell_type": "code",
   "execution_count": 5,
   "metadata": {},
   "outputs": [],
   "source": [
    "#Add a column to be opposite of FAILURE column for use in neural network training\n",
    "tempSuccessList = []\n",
    "for row in np.arange(len(pipes_df3['FID'])):\n",
    "    value = 1 - pipes_df3.iloc[row]['FAILURE']\n",
    "    tempSuccessList.append(value)\n",
    "pipes_df3['SUCCESS'] = tempSuccessList"
   ]
  },
  {
   "cell_type": "markdown",
   "metadata": {},
   "source": [
    "# Machine Learning"
   ]
  },
  {
   "cell_type": "markdown",
   "metadata": {},
   "source": [
    "# PreProcessing"
   ]
  },
  {
   "cell_type": "code",
   "execution_count": 6,
   "metadata": {},
   "outputs": [],
   "source": [
    "#Select which columns to train off of.\n",
    "#A number of iterations of this were initially used when exploring the data\n",
    "#In the end it was decided to only use average values for those which have averages\n",
    "\n",
    "inputColumns = ['DIAMETER', 'PIPE_LENGTH','ROUGHNESS',\n",
    "       'HL1000','AVE_FLOW','AVE_VELOCITY','MAX_VELOCITY','MIN_VELOCITY',\n",
    "       'AVE_HEADLOSS', 'ELEVATION','RUN_ELEV', 'DEMAND',\n",
    "       'AVE_HEAD',\n",
    "       'AVE_PRESS','MATERIAL_AMTYT',\n",
    "       'MATERIAL_CI', 'MATERIAL_CO', 'MATERIAL_COP', 'MATERIAL_CPP',\n",
    "       'MATERIAL_Copper', 'MATERIAL_DEL', 'MATERIAL_DIP', 'MATERIAL_EARGEO',\n",
    "       'MATERIAL_GP', 'MATERIAL_HDPE', 'MATERIAL_L.J.', 'MATERIAL_M.J.',\n",
    "       'MATERIAL_MCW', 'MATERIAL_OTH', 'MATERIAL_PE', 'MATERIAL_PP',\n",
    "       'MATERIAL_PVC', 'MATERIAL_R.L.J.', 'MATERIAL_RCP', 'MATERIAL_SP',\n",
    "       'MATERIAL_ST', 'MATERIAL_T.D', 'MATERIAL_T.D.', 'MATERIAL_TTE',\n",
    "       'MATERIAL_TYT', 'MATERIAL_UNK', 'MATERIAL_W.I.','Age']"
   ]
  },
  {
   "cell_type": "code",
   "execution_count": 7,
   "metadata": {},
   "outputs": [],
   "source": [
    "#Split into training and testing sets\n",
    "X_train, X_test, y_train, y_test = train_test_split(pipes_df3[inputColumns],pipes_df3['FAILURE'],stratify=pipes_df3['FAILURE'],test_size = 0.3, random_state=42)\n",
    "\n",
    "#Make another split for y which uses the additional 'SUCCESS' column for use in neural network\n",
    "#Note: Using random state the X_train and X_test would be identical and so need not be kept\n",
    "_, _, y_train_2, y_test_2 = train_test_split(pipes_df3[inputColumns],pipes_df3[['FAILURE','SUCCESS']],stratify=pipes_df3['FAILURE'],test_size = 0.3, random_state=42)"
   ]
  },
  {
   "cell_type": "code",
   "execution_count": 8,
   "metadata": {},
   "outputs": [],
   "source": [
    "#Note: If we were to train and test on the split as it currently is, it will just guess that everything is an unbroken pipe\n",
    "#This is not desired behavior\n",
    "\n",
    "#Split X_train into a list of those where the pipes are broken and those which arent\n",
    "#Then, undersample those pipes which are unbroken to avoid bias\n",
    "X_train_false = X_train[y_train==0].sample(n=sum(y_train))\n",
    "X_train_true = X_train[y_train==1].sample(n=sum(y_train))\n",
    "\n",
    "#Recombine the sampled X_train into one list and keep only those y_train values corresponding to selected indices\n",
    "X_train_sampled = X_train_true.append(X_train_false)\n",
    "y_train_sampled = y_train.loc[X_train_sampled.index]\n",
    "y_train_sampled_2 = y_train_2.loc[X_train_sampled.index]\n",
    "\n",
    "#Apply min-max scalers to X\n",
    "#Note: applying min-max too early changed format of dataframe into a np.array and interfered with the sampling process\n",
    "X_minmax = MinMaxScaler().fit(X_train)\n",
    "X_train_minmax = X_minmax.transform(X_train_sampled)\n",
    "X_test_minmax = X_minmax.transform(X_test)"
   ]
  },
  {
   "cell_type": "markdown",
   "metadata": {},
   "source": [
    "## Logistic Regression"
   ]
  },
  {
   "cell_type": "code",
   "execution_count": 9,
   "metadata": {},
   "outputs": [
    {
     "data": {
      "text/plain": [
       "0.6698073701842546"
      ]
     },
     "execution_count": 9,
     "metadata": {},
     "output_type": "execute_result"
    }
   ],
   "source": [
    "#Set a logistic regression as a model\n",
    "lrmodel = LogisticRegression()\n",
    "lrmodel.fit(X_train_minmax,y_train_sampled)\n",
    "lrmodel.score(X_train_minmax,y_train_sampled)"
   ]
  },
  {
   "cell_type": "code",
   "execution_count": 10,
   "metadata": {},
   "outputs": [
    {
     "data": {
      "text/plain": [
       "0.6768626517495834"
      ]
     },
     "execution_count": 10,
     "metadata": {},
     "output_type": "execute_result"
    }
   ],
   "source": [
    "lrmodel.score(X_test_minmax,y_test)"
   ]
  },
  {
   "cell_type": "code",
   "execution_count": 11,
   "metadata": {},
   "outputs": [
    {
     "data": {
      "text/plain": [
       "array([[10711,  5069],\n",
       "       [  361,   663]], dtype=int64)"
      ]
     },
     "execution_count": 11,
     "metadata": {},
     "output_type": "execute_result"
    }
   ],
   "source": [
    "confusion_matrix(y_test,lrmodel.predict(X_test_minmax))"
   ]
  },
  {
   "cell_type": "markdown",
   "metadata": {},
   "source": [
    "## Neural Network"
   ]
  },
  {
   "cell_type": "code",
   "execution_count": 12,
   "metadata": {},
   "outputs": [
    {
     "name": "stdout",
     "output_type": "stream",
     "text": [
      "Epoch 1/100\n",
      " - 0s - loss: 0.6681 - acc: 0.5827\n",
      "Epoch 2/100\n",
      " - 0s - loss: 0.6431 - acc: 0.6237\n",
      "Epoch 3/100\n",
      " - 0s - loss: 0.6328 - acc: 0.6390\n",
      "Epoch 4/100\n",
      " - 0s - loss: 0.6245 - acc: 0.6552\n",
      "Epoch 5/100\n",
      " - 0s - loss: 0.6163 - acc: 0.6656\n",
      "Epoch 6/100\n",
      " - 0s - loss: 0.6103 - acc: 0.6669\n",
      "Epoch 7/100\n",
      " - 0s - loss: 0.6021 - acc: 0.6736\n",
      "Epoch 8/100\n",
      " - 0s - loss: 0.5958 - acc: 0.6815\n",
      "Epoch 9/100\n",
      " - 0s - loss: 0.5932 - acc: 0.6853\n",
      "Epoch 10/100\n",
      " - 0s - loss: 0.5892 - acc: 0.6889\n",
      "Epoch 11/100\n",
      " - 0s - loss: 0.5868 - acc: 0.6910\n",
      "Epoch 12/100\n",
      " - 0s - loss: 0.5862 - acc: 0.6928\n",
      "Epoch 13/100\n",
      " - 0s - loss: 0.5823 - acc: 0.6958\n",
      "Epoch 14/100\n",
      " - 0s - loss: 0.5825 - acc: 0.6972\n",
      "Epoch 15/100\n",
      " - 0s - loss: 0.5807 - acc: 0.7035\n",
      "Epoch 16/100\n",
      " - 0s - loss: 0.5786 - acc: 0.7023\n",
      "Epoch 17/100\n",
      " - 0s - loss: 0.5780 - acc: 0.6983\n",
      "Epoch 18/100\n",
      " - 0s - loss: 0.5778 - acc: 0.7002\n",
      "Epoch 19/100\n",
      " - 0s - loss: 0.5760 - acc: 0.6993\n",
      "Epoch 20/100\n",
      " - 0s - loss: 0.5755 - acc: 0.7023\n",
      "Epoch 21/100\n",
      " - 0s - loss: 0.5744 - acc: 0.7008\n",
      "Epoch 22/100\n",
      " - 0s - loss: 0.5760 - acc: 0.7039\n",
      "Epoch 23/100\n",
      " - 0s - loss: 0.5738 - acc: 0.7125\n",
      "Epoch 24/100\n",
      " - 0s - loss: 0.5721 - acc: 0.7100\n",
      "Epoch 25/100\n",
      " - 0s - loss: 0.5715 - acc: 0.7083\n",
      "Epoch 26/100\n",
      " - 0s - loss: 0.5719 - acc: 0.7054\n",
      "Epoch 27/100\n",
      " - 0s - loss: 0.5704 - acc: 0.7117\n",
      "Epoch 28/100\n",
      " - 0s - loss: 0.5702 - acc: 0.7115\n",
      "Epoch 29/100\n",
      " - 0s - loss: 0.5702 - acc: 0.7092\n",
      "Epoch 30/100\n",
      " - 0s - loss: 0.5674 - acc: 0.7119\n",
      "Epoch 31/100\n",
      " - 0s - loss: 0.5695 - acc: 0.7052\n",
      "Epoch 32/100\n",
      " - 0s - loss: 0.5677 - acc: 0.7134\n",
      "Epoch 33/100\n",
      " - 0s - loss: 0.5678 - acc: 0.7108\n",
      "Epoch 34/100\n",
      " - 0s - loss: 0.5655 - acc: 0.7119\n",
      "Epoch 35/100\n",
      " - 0s - loss: 0.5684 - acc: 0.7081\n",
      "Epoch 36/100\n",
      " - 0s - loss: 0.5672 - acc: 0.7069\n",
      "Epoch 37/100\n",
      " - 0s - loss: 0.5649 - acc: 0.7092\n",
      "Epoch 38/100\n",
      " - 0s - loss: 0.5659 - acc: 0.7148\n",
      "Epoch 39/100\n",
      " - 0s - loss: 0.5643 - acc: 0.7131\n",
      "Epoch 40/100\n",
      " - 0s - loss: 0.5641 - acc: 0.7134\n",
      "Epoch 41/100\n",
      " - 0s - loss: 0.5629 - acc: 0.7211\n",
      "Epoch 42/100\n",
      " - 0s - loss: 0.5632 - acc: 0.7148\n",
      "Epoch 43/100\n",
      " - 0s - loss: 0.5609 - acc: 0.7152\n",
      "Epoch 44/100\n",
      " - 0s - loss: 0.5605 - acc: 0.7169\n",
      "Epoch 45/100\n",
      " - 0s - loss: 0.5599 - acc: 0.7186\n",
      "Epoch 46/100\n",
      " - 0s - loss: 0.5616 - acc: 0.7165\n",
      "Epoch 47/100\n",
      " - 0s - loss: 0.5624 - acc: 0.7127\n",
      "Epoch 48/100\n",
      " - 0s - loss: 0.5611 - acc: 0.7165\n",
      "Epoch 49/100\n",
      " - 0s - loss: 0.5597 - acc: 0.7169\n",
      "Epoch 50/100\n",
      " - 0s - loss: 0.5575 - acc: 0.7148\n",
      "Epoch 51/100\n",
      " - 0s - loss: 0.5572 - acc: 0.7203\n",
      "Epoch 52/100\n",
      " - 0s - loss: 0.5584 - acc: 0.7161\n",
      "Epoch 53/100\n",
      " - 0s - loss: 0.5583 - acc: 0.7108\n",
      "Epoch 54/100\n",
      " - 0s - loss: 0.5564 - acc: 0.7215\n",
      "Epoch 55/100\n",
      " - 0s - loss: 0.5568 - acc: 0.7194\n",
      "Epoch 56/100\n",
      " - 0s - loss: 0.5576 - acc: 0.7178\n",
      "Epoch 57/100\n",
      " - 0s - loss: 0.5542 - acc: 0.7257\n",
      "Epoch 58/100\n",
      " - 0s - loss: 0.5555 - acc: 0.7196\n",
      "Epoch 59/100\n",
      " - 0s - loss: 0.5542 - acc: 0.7222\n",
      "Epoch 60/100\n",
      " - 0s - loss: 0.5541 - acc: 0.7186\n",
      "Epoch 61/100\n",
      " - 0s - loss: 0.5533 - acc: 0.7224\n",
      "Epoch 62/100\n",
      " - 0s - loss: 0.5537 - acc: 0.7203\n",
      "Epoch 63/100\n",
      " - 0s - loss: 0.5551 - acc: 0.7180\n",
      "Epoch 64/100\n",
      " - 0s - loss: 0.5529 - acc: 0.7203\n",
      "Epoch 65/100\n",
      " - 0s - loss: 0.5523 - acc: 0.7198\n",
      "Epoch 66/100\n",
      " - 0s - loss: 0.5504 - acc: 0.7175\n",
      "Epoch 67/100\n",
      " - 0s - loss: 0.5512 - acc: 0.7209\n",
      "Epoch 68/100\n",
      " - 0s - loss: 0.5520 - acc: 0.7194\n",
      "Epoch 69/100\n",
      " - 0s - loss: 0.5504 - acc: 0.7234\n",
      "Epoch 70/100\n",
      " - 0s - loss: 0.5497 - acc: 0.7280\n",
      "Epoch 71/100\n",
      " - 0s - loss: 0.5490 - acc: 0.7255\n",
      "Epoch 72/100\n",
      " - 0s - loss: 0.5468 - acc: 0.7272\n",
      "Epoch 73/100\n",
      " - 0s - loss: 0.5492 - acc: 0.7251\n",
      "Epoch 74/100\n",
      " - 0s - loss: 0.5483 - acc: 0.7263\n",
      "Epoch 75/100\n",
      " - 0s - loss: 0.5468 - acc: 0.7295\n",
      "Epoch 76/100\n",
      " - 0s - loss: 0.5458 - acc: 0.7282\n",
      "Epoch 77/100\n",
      " - 0s - loss: 0.5485 - acc: 0.7219\n",
      "Epoch 78/100\n",
      " - 0s - loss: 0.5476 - acc: 0.7249\n",
      "Epoch 79/100\n",
      " - 0s - loss: 0.5473 - acc: 0.7222\n",
      "Epoch 80/100\n",
      " - 0s - loss: 0.5460 - acc: 0.7249\n",
      "Epoch 81/100\n",
      " - 0s - loss: 0.5465 - acc: 0.7224\n",
      "Epoch 82/100\n",
      " - 0s - loss: 0.5451 - acc: 0.7226\n",
      "Epoch 83/100\n",
      " - 0s - loss: 0.5451 - acc: 0.7255\n",
      "Epoch 84/100\n",
      " - 0s - loss: 0.5456 - acc: 0.7234\n",
      "Epoch 85/100\n",
      " - 0s - loss: 0.5457 - acc: 0.7219\n",
      "Epoch 86/100\n",
      " - 0s - loss: 0.5441 - acc: 0.7299\n",
      "Epoch 87/100\n",
      " - 0s - loss: 0.5440 - acc: 0.7242\n",
      "Epoch 88/100\n",
      " - 0s - loss: 0.5423 - acc: 0.7272\n",
      "Epoch 89/100\n",
      " - 0s - loss: 0.5426 - acc: 0.7297\n",
      "Epoch 90/100\n",
      " - 0s - loss: 0.5413 - acc: 0.7249\n",
      "Epoch 91/100\n",
      " - 0s - loss: 0.5416 - acc: 0.7242\n",
      "Epoch 92/100\n",
      " - 0s - loss: 0.5410 - acc: 0.7249\n",
      "Epoch 93/100\n",
      " - 0s - loss: 0.5432 - acc: 0.7238\n",
      "Epoch 94/100\n",
      " - 0s - loss: 0.5418 - acc: 0.7291\n",
      "Epoch 95/100\n",
      " - 0s - loss: 0.5413 - acc: 0.7284\n",
      "Epoch 96/100\n",
      " - 0s - loss: 0.5408 - acc: 0.7314\n",
      "Epoch 97/100\n",
      " - 0s - loss: 0.5406 - acc: 0.7295\n",
      "Epoch 98/100\n",
      " - 0s - loss: 0.5415 - acc: 0.7303\n",
      "Epoch 99/100\n",
      " - 0s - loss: 0.5392 - acc: 0.7253\n",
      "Epoch 100/100\n",
      " - 0s - loss: 0.5394 - acc: 0.7263\n"
     ]
    },
    {
     "data": {
      "text/plain": [
       "<keras.callbacks.History at 0x22f993adfd0>"
      ]
     },
     "execution_count": 12,
     "metadata": {},
     "output_type": "execute_result"
    }
   ],
   "source": [
    "#Add a shallow neural network\n",
    "nnmodel = Sequential()\n",
    "\n",
    "#Add layers\n",
    "nnmodel.add(Dense(100, activation='relu', input_dim=X_train_minmax.shape[1]))\n",
    "nnmodel.add(Dense(2,activation = 'softmax'))\n",
    "\n",
    "#Compile\n",
    "nnmodel.compile(loss=\"categorical_crossentropy\",\n",
    "              optimizer=\"adam\", metrics=['accuracy'])\n",
    "\n",
    "#Fit the training model to the data\n",
    "nnmodel.fit(\n",
    "    X_train_minmax,\n",
    "    y_train_sampled_2,\n",
    "    epochs=100,\n",
    "    shuffle=True,\n",
    "    verbose=2\n",
    ")"
   ]
  },
  {
   "cell_type": "code",
   "execution_count": 13,
   "metadata": {},
   "outputs": [
    {
     "name": "stdout",
     "output_type": "stream",
     "text": [
      "Loss: 0.7346381294928798, Accuracy: 0.6005117829088312\n"
     ]
    }
   ],
   "source": [
    "nnmodel_loss, nnmodel_accuracy = nnmodel.evaluate(X_test_minmax, y_test_2, verbose=2)\n",
    "print(f\"Loss: {nnmodel_loss}, Accuracy: {nnmodel_accuracy}\")"
   ]
  },
  {
   "cell_type": "markdown",
   "metadata": {},
   "source": [
    "## Random Forests"
   ]
  },
  {
   "cell_type": "markdown",
   "metadata": {},
   "source": [
    "### Decide on number of estimators to use"
   ]
  },
  {
   "cell_type": "code",
   "execution_count": 14,
   "metadata": {},
   "outputs": [
    {
     "name": "stdout",
     "output_type": "stream",
     "text": [
      "Fitting 3 folds for each of 5 candidates, totalling 15 fits\n",
      "[CV] n_estimators=20 .................................................\n",
      "[CV] ........ n_estimators=20, score=0.7380653266331658, total=   0.0s\n",
      "[CV] n_estimators=20 .................................................\n"
     ]
    },
    {
     "name": "stderr",
     "output_type": "stream",
     "text": [
      "[Parallel(n_jobs=1)]: Done   1 out of   1 | elapsed:    0.0s remaining:    0.0s\n",
      "[Parallel(n_jobs=1)]: Done   2 out of   2 | elapsed:    0.2s remaining:    0.0s\n"
     ]
    },
    {
     "name": "stdout",
     "output_type": "stream",
     "text": [
      "[CV] ........ n_estimators=20, score=0.7405778894472361, total=   0.0s\n",
      "[CV] n_estimators=20 .................................................\n",
      "[CV] ........ n_estimators=20, score=0.7198492462311558, total=   0.0s\n",
      "[CV] n_estimators=50 .................................................\n",
      "[CV] ........ n_estimators=50, score=0.7562814070351759, total=   0.2s\n",
      "[CV] n_estimators=50 .................................................\n",
      "[CV] ........ n_estimators=50, score=0.7556532663316583, total=   0.2s\n",
      "[CV] n_estimators=50 .................................................\n",
      "[CV] ........ n_estimators=50, score=0.7430904522613065, total=   0.2s\n",
      "[CV] n_estimators=100 ................................................\n",
      "[CV] ....... n_estimators=100, score=0.7487437185929648, total=   0.7s\n",
      "[CV] n_estimators=100 ................................................\n",
      "[CV] ....... n_estimators=100, score=0.7650753768844221, total=   0.5s\n",
      "[CV] n_estimators=100 ................................................\n",
      "[CV] ....... n_estimators=100, score=0.7462311557788944, total=   0.5s\n",
      "[CV] n_estimators=200 ................................................\n",
      "[CV] ....... n_estimators=200, score=0.7430904522613065, total=   1.2s\n",
      "[CV] n_estimators=200 ................................................\n",
      "[CV] ....... n_estimators=200, score=0.7738693467336684, total=   1.2s\n",
      "[CV] n_estimators=200 ................................................\n",
      "[CV] ....... n_estimators=200, score=0.7456030150753769, total=   1.4s\n",
      "[CV] n_estimators=300 ................................................\n",
      "[CV] ....... n_estimators=300, score=0.7550251256281407, total=   1.7s\n",
      "[CV] n_estimators=300 ................................................\n",
      "[CV] ....... n_estimators=300, score=0.7669597989949749, total=   1.9s\n",
      "[CV] n_estimators=300 ................................................\n",
      "[CV] ........ n_estimators=300, score=0.739321608040201, total=   1.9s\n"
     ]
    },
    {
     "name": "stderr",
     "output_type": "stream",
     "text": [
      "[Parallel(n_jobs=1)]: Done  15 out of  15 | elapsed:   14.3s finished\n"
     ]
    },
    {
     "data": {
      "text/plain": [
       "GridSearchCV(cv=None, error_score='raise',\n",
       "       estimator=RandomForestClassifier(bootstrap=True, class_weight=None, criterion='gini',\n",
       "            max_depth=None, max_features='auto', max_leaf_nodes=None,\n",
       "            min_impurity_decrease=0.0, min_impurity_split=None,\n",
       "            min_samples_leaf=1, min_samples_split=2,\n",
       "            min_weight_fraction_leaf=0.0, n_estimators=10, n_jobs=1,\n",
       "            oob_score=False, random_state=None, verbose=0,\n",
       "            warm_start=False),\n",
       "       fit_params=None, iid=True, n_jobs=1,\n",
       "       param_grid={'n_estimators': [20, 50, 100, 200, 300]},\n",
       "       pre_dispatch='2*n_jobs', refit=True, return_train_score='warn',\n",
       "       scoring=None, verbose=3)"
      ]
     },
     "execution_count": 14,
     "metadata": {},
     "output_type": "execute_result"
    }
   ],
   "source": [
    "#Load a Random Forest model\n",
    "model = RandomForestClassifier()\n",
    "\n",
    "#Set a parameter grid\n",
    "#Only real parameters we needed to check was the number of estimators\n",
    "param_grid = {'n_estimators': [20,50,100,200,300]}\n",
    "grid = GridSearchCV(model, param_grid, verbose=3)\n",
    "\n",
    "#Fit the grid\n",
    "grid.fit(X_train_minmax,y_train_sampled)"
   ]
  },
  {
   "cell_type": "code",
   "execution_count": 15,
   "metadata": {},
   "outputs": [
    {
     "name": "stdout",
     "output_type": "stream",
     "text": [
      "The best score was 0.7413711021185432\n",
      "The best parameters were {'n_estimators': 200}\n"
     ]
    }
   ],
   "source": [
    "#Find the best score and best parameters\n",
    "print(f'The best score was {grid.score(X_test_minmax,y_test)}\\nThe best parameters were {grid.best_params_}')"
   ]
  },
  {
   "cell_type": "code",
   "execution_count": 16,
   "metadata": {},
   "outputs": [
    {
     "name": "stdout",
     "output_type": "stream",
     "text": [
      "             precision    recall  f1-score   support\n",
      "\n",
      "          0       0.98      0.74      0.84     15780\n",
      "          1       0.16      0.75      0.26      1024\n",
      "\n",
      "avg / total       0.93      0.74      0.81     16804\n",
      "\n"
     ]
    }
   ],
   "source": [
    "#Take a look at classification report to confirm that the model is ideal\n",
    "print(classification_report(y_test, grid.predict(X_test_minmax)))"
   ]
  },
  {
   "cell_type": "code",
   "execution_count": 17,
   "metadata": {},
   "outputs": [
    {
     "data": {
      "text/plain": [
       "array([[11690,  4090],\n",
       "       [  256,   768]], dtype=int64)"
      ]
     },
     "execution_count": 17,
     "metadata": {},
     "output_type": "execute_result"
    }
   ],
   "source": [
    "#Take a look at the confusion matrix to confirm that there is no unintended behavior (e.g. only guessing unbroken)\n",
    "confusion_matrix(y_test, grid.predict(X_test_minmax))"
   ]
  },
  {
   "cell_type": "markdown",
   "metadata": {},
   "source": [
    "# Performing deeper analysis with Random Forests"
   ]
  },
  {
   "cell_type": "code",
   "execution_count": 18,
   "metadata": {},
   "outputs": [],
   "source": [
    "#Apply cross validation so as to have percentage predictions for all data points without bias towards training data\n",
    "cv = StratifiedKFold(n_splits=5, shuffle=True, random_state=42)\n",
    "split = cv.split(pipes_df3[inputColumns],pipes_df3['FAILURE'])\n",
    "rfmodel = RandomForestClassifier(n_estimators=300)"
   ]
  },
  {
   "cell_type": "code",
   "execution_count": 19,
   "metadata": {},
   "outputs": [],
   "source": [
    "#Create new column for use in displaying results of analysis to be filled in later\n",
    "#Final results will be stored in final_df\n",
    "scores = []\n",
    "final_df = pipes_df3\n",
    "final_df['BurstChance'] = 0"
   ]
  },
  {
   "cell_type": "code",
   "execution_count": 20,
   "metadata": {},
   "outputs": [
    {
     "name": "stdout",
     "output_type": "stream",
     "text": [
      "[[7839 2681]\n",
      " [ 134  549]]\n"
     ]
    },
    {
     "name": "stderr",
     "output_type": "stream",
     "text": [
      "C:\\ProgramData\\Anaconda3\\lib\\site-packages\\pandas\\core\\indexing.py:189: SettingWithCopyWarning: \n",
      "A value is trying to be set on a copy of a slice from a DataFrame\n",
      "\n",
      "See the caveats in the documentation: http://pandas.pydata.org/pandas-docs/stable/indexing.html#indexing-view-versus-copy\n",
      "  self._setitem_with_indexer(indexer, value)\n"
     ]
    },
    {
     "name": "stdout",
     "output_type": "stream",
     "text": [
      "[[8053 2467]\n",
      " [ 162  521]]\n"
     ]
    },
    {
     "name": "stderr",
     "output_type": "stream",
     "text": [
      "C:\\ProgramData\\Anaconda3\\lib\\site-packages\\pandas\\core\\indexing.py:189: SettingWithCopyWarning: \n",
      "A value is trying to be set on a copy of a slice from a DataFrame\n",
      "\n",
      "See the caveats in the documentation: http://pandas.pydata.org/pandas-docs/stable/indexing.html#indexing-view-versus-copy\n",
      "  self._setitem_with_indexer(indexer, value)\n"
     ]
    },
    {
     "name": "stdout",
     "output_type": "stream",
     "text": [
      "[[7961 2559]\n",
      " [ 161  521]]\n"
     ]
    },
    {
     "name": "stderr",
     "output_type": "stream",
     "text": [
      "C:\\ProgramData\\Anaconda3\\lib\\site-packages\\pandas\\core\\indexing.py:189: SettingWithCopyWarning: \n",
      "A value is trying to be set on a copy of a slice from a DataFrame\n",
      "\n",
      "See the caveats in the documentation: http://pandas.pydata.org/pandas-docs/stable/indexing.html#indexing-view-versus-copy\n",
      "  self._setitem_with_indexer(indexer, value)\n"
     ]
    },
    {
     "name": "stdout",
     "output_type": "stream",
     "text": [
      "[[7817 2703]\n",
      " [ 152  530]]\n"
     ]
    },
    {
     "name": "stderr",
     "output_type": "stream",
     "text": [
      "C:\\ProgramData\\Anaconda3\\lib\\site-packages\\pandas\\core\\indexing.py:189: SettingWithCopyWarning: \n",
      "A value is trying to be set on a copy of a slice from a DataFrame\n",
      "\n",
      "See the caveats in the documentation: http://pandas.pydata.org/pandas-docs/stable/indexing.html#indexing-view-versus-copy\n",
      "  self._setitem_with_indexer(indexer, value)\n"
     ]
    },
    {
     "name": "stdout",
     "output_type": "stream",
     "text": [
      "[[7909 2611]\n",
      " [ 163  519]]\n"
     ]
    },
    {
     "name": "stderr",
     "output_type": "stream",
     "text": [
      "C:\\ProgramData\\Anaconda3\\lib\\site-packages\\pandas\\core\\indexing.py:189: SettingWithCopyWarning: \n",
      "A value is trying to be set on a copy of a slice from a DataFrame\n",
      "\n",
      "See the caveats in the documentation: http://pandas.pydata.org/pandas-docs/stable/indexing.html#indexing-view-versus-copy\n",
      "  self._setitem_with_indexer(indexer, value)\n"
     ]
    }
   ],
   "source": [
    "#For each train-test split from our crossvalidation, run the same type of analysis as before\n",
    "for train_idx, test_idx in cv.split(pipes_df3[inputColumns],pipes_df3['FAILURE']):\n",
    "    Current_X_train = pipes_df3[inputColumns].loc[train_idx]\n",
    "    Current_X_test = pipes_df3[inputColumns].loc[test_idx]\n",
    "    Current_y_train = pipes_df3['FAILURE'].loc[train_idx]\n",
    "    Current_y_test = pipes_df3['FAILURE'].loc[test_idx]\n",
    "    \n",
    "    \n",
    "    #Undersample training data as before\n",
    "    Current_X_train_false = Current_X_train[Current_y_train==0].sample(n=sum(Current_y_train))\n",
    "    Current_X_train_true = Current_X_train[Current_y_train==1].sample(n=sum(Current_y_train))\n",
    "    \n",
    "    Current_X_train_sampled = Current_X_train_true.append(Current_X_train_false)\n",
    "    Current_y_train_sampled = Current_y_train.loc[Current_X_train_sampled.index]\n",
    "    \n",
    "    Current_X_minmax = MinMaxScaler().fit(Current_X_train)\n",
    "    Current_X_train_minmax = Current_X_minmax.transform(Current_X_train_sampled)\n",
    "    Current_X_test_minmax = Current_X_minmax.transform(Current_X_test)\n",
    "\n",
    "    \n",
    "    rfmodel.fit(Current_X_train_minmax, Current_y_train_sampled)\n",
    "    score = rfmodel.score(Current_X_test_minmax, Current_y_test)\n",
    "    scores.append(score)\n",
    "    print(confusion_matrix(Current_y_test,rfmodel.predict(Current_X_test_minmax)))\n",
    "    \n",
    "    #Store prediction probabilities into final_df\n",
    "    final_df['BurstChance'].loc[test_idx] = [x[1] for x in list(rfmodel.predict_proba(Current_X_test_minmax))]\n"
   ]
  },
  {
   "cell_type": "code",
   "execution_count": 21,
   "metadata": {},
   "outputs": [
    {
     "data": {
      "text/plain": [
       "[0.7487280192805499,\n",
       " 0.7653307149870571,\n",
       " 0.7571862167470095,\n",
       " 0.7451347973576147,\n",
       " 0.7523656489912516]"
      ]
     },
     "execution_count": 21,
     "metadata": {},
     "output_type": "execute_result"
    }
   ],
   "source": [
    "#Look at final scores for each\n",
    "scores"
   ]
  },
  {
   "cell_type": "code",
   "execution_count": 22,
   "metadata": {},
   "outputs": [
    {
     "data": {
      "text/html": [
       "<div>\n",
       "<style scoped>\n",
       "    .dataframe tbody tr th:only-of-type {\n",
       "        vertical-align: middle;\n",
       "    }\n",
       "\n",
       "    .dataframe tbody tr th {\n",
       "        vertical-align: top;\n",
       "    }\n",
       "\n",
       "    .dataframe thead th {\n",
       "        text-align: right;\n",
       "    }\n",
       "</style>\n",
       "<table border=\"1\" class=\"dataframe\">\n",
       "  <thead>\n",
       "    <tr style=\"text-align: right;\">\n",
       "      <th></th>\n",
       "      <th>BurstChance</th>\n",
       "      <th>FID</th>\n",
       "      <th>MOID</th>\n",
       "      <th>DIAMETER</th>\n",
       "      <th>PIPE_LENGTH</th>\n",
       "      <th>ROUGHNESS</th>\n",
       "      <th>HL1000</th>\n",
       "      <th>AVE_FLOW</th>\n",
       "      <th>AVE_VELOCITY</th>\n",
       "      <th>MAX_VELOCITY</th>\n",
       "      <th>...</th>\n",
       "      <th>MATERIAL_RCP</th>\n",
       "      <th>MATERIAL_SP</th>\n",
       "      <th>MATERIAL_ST</th>\n",
       "      <th>MATERIAL_T.D</th>\n",
       "      <th>MATERIAL_T.D.</th>\n",
       "      <th>MATERIAL_TTE</th>\n",
       "      <th>MATERIAL_TYT</th>\n",
       "      <th>MATERIAL_UNK</th>\n",
       "      <th>MATERIAL_W.I.</th>\n",
       "      <th>Age</th>\n",
       "    </tr>\n",
       "  </thead>\n",
       "  <tbody>\n",
       "    <tr>\n",
       "      <th>1913</th>\n",
       "      <td>0.986667</td>\n",
       "      <td>10000</td>\n",
       "      <td>P29568</td>\n",
       "      <td>6.0</td>\n",
       "      <td>536.392085</td>\n",
       "      <td>39</td>\n",
       "      <td>0.1814</td>\n",
       "      <td>18.4316</td>\n",
       "      <td>0.2091</td>\n",
       "      <td>0.2698</td>\n",
       "      <td>...</td>\n",
       "      <td>0</td>\n",
       "      <td>0</td>\n",
       "      <td>0</td>\n",
       "      <td>0</td>\n",
       "      <td>0</td>\n",
       "      <td>0</td>\n",
       "      <td>0</td>\n",
       "      <td>0</td>\n",
       "      <td>0</td>\n",
       "      <td>82</td>\n",
       "    </tr>\n",
       "    <tr>\n",
       "      <th>937</th>\n",
       "      <td>0.980000</td>\n",
       "      <td>33143</td>\n",
       "      <td>P6285</td>\n",
       "      <td>42.0</td>\n",
       "      <td>444.844718</td>\n",
       "      <td>130</td>\n",
       "      <td>0.0001</td>\n",
       "      <td>173.7656</td>\n",
       "      <td>0.0402</td>\n",
       "      <td>0.0560</td>\n",
       "      <td>...</td>\n",
       "      <td>0</td>\n",
       "      <td>0</td>\n",
       "      <td>0</td>\n",
       "      <td>0</td>\n",
       "      <td>0</td>\n",
       "      <td>0</td>\n",
       "      <td>0</td>\n",
       "      <td>0</td>\n",
       "      <td>0</td>\n",
       "      <td>60</td>\n",
       "    </tr>\n",
       "    <tr>\n",
       "      <th>8218</th>\n",
       "      <td>0.980000</td>\n",
       "      <td>11319</td>\n",
       "      <td>P2446</td>\n",
       "      <td>36.0</td>\n",
       "      <td>57.899811</td>\n",
       "      <td>152</td>\n",
       "      <td>0.1054</td>\n",
       "      <td>4053.0063</td>\n",
       "      <td>1.2775</td>\n",
       "      <td>1.6978</td>\n",
       "      <td>...</td>\n",
       "      <td>0</td>\n",
       "      <td>0</td>\n",
       "      <td>0</td>\n",
       "      <td>0</td>\n",
       "      <td>0</td>\n",
       "      <td>0</td>\n",
       "      <td>0</td>\n",
       "      <td>0</td>\n",
       "      <td>0</td>\n",
       "      <td>20</td>\n",
       "    </tr>\n",
       "    <tr>\n",
       "      <th>919</th>\n",
       "      <td>0.976667</td>\n",
       "      <td>954</td>\n",
       "      <td>P103643</td>\n",
       "      <td>42.0</td>\n",
       "      <td>855.946881</td>\n",
       "      <td>130</td>\n",
       "      <td>0.0000</td>\n",
       "      <td>173.7656</td>\n",
       "      <td>0.0402</td>\n",
       "      <td>0.0560</td>\n",
       "      <td>...</td>\n",
       "      <td>0</td>\n",
       "      <td>0</td>\n",
       "      <td>0</td>\n",
       "      <td>0</td>\n",
       "      <td>0</td>\n",
       "      <td>0</td>\n",
       "      <td>0</td>\n",
       "      <td>0</td>\n",
       "      <td>0</td>\n",
       "      <td>60</td>\n",
       "    </tr>\n",
       "    <tr>\n",
       "      <th>29050</th>\n",
       "      <td>0.973333</td>\n",
       "      <td>29112</td>\n",
       "      <td>P46120</td>\n",
       "      <td>6.0</td>\n",
       "      <td>583.595496</td>\n",
       "      <td>84</td>\n",
       "      <td>0.0013</td>\n",
       "      <td>1.8730</td>\n",
       "      <td>0.0213</td>\n",
       "      <td>0.0251</td>\n",
       "      <td>...</td>\n",
       "      <td>0</td>\n",
       "      <td>0</td>\n",
       "      <td>0</td>\n",
       "      <td>0</td>\n",
       "      <td>0</td>\n",
       "      <td>0</td>\n",
       "      <td>0</td>\n",
       "      <td>0</td>\n",
       "      <td>0</td>\n",
       "      <td>61</td>\n",
       "    </tr>\n",
       "    <tr>\n",
       "      <th>928</th>\n",
       "      <td>0.973333</td>\n",
       "      <td>30911</td>\n",
       "      <td>P64867</td>\n",
       "      <td>42.0</td>\n",
       "      <td>713.707471</td>\n",
       "      <td>130</td>\n",
       "      <td>0.0003</td>\n",
       "      <td>135.6322</td>\n",
       "      <td>0.0314</td>\n",
       "      <td>0.0835</td>\n",
       "      <td>...</td>\n",
       "      <td>0</td>\n",
       "      <td>0</td>\n",
       "      <td>0</td>\n",
       "      <td>0</td>\n",
       "      <td>0</td>\n",
       "      <td>0</td>\n",
       "      <td>0</td>\n",
       "      <td>0</td>\n",
       "      <td>0</td>\n",
       "      <td>60</td>\n",
       "    </tr>\n",
       "    <tr>\n",
       "      <th>941</th>\n",
       "      <td>0.973333</td>\n",
       "      <td>53174</td>\n",
       "      <td>P161395</td>\n",
       "      <td>42.0</td>\n",
       "      <td>1129.185635</td>\n",
       "      <td>130</td>\n",
       "      <td>0.0000</td>\n",
       "      <td>0.0000</td>\n",
       "      <td>0.0000</td>\n",
       "      <td>0.0000</td>\n",
       "      <td>...</td>\n",
       "      <td>0</td>\n",
       "      <td>0</td>\n",
       "      <td>0</td>\n",
       "      <td>0</td>\n",
       "      <td>0</td>\n",
       "      <td>0</td>\n",
       "      <td>0</td>\n",
       "      <td>0</td>\n",
       "      <td>0</td>\n",
       "      <td>60</td>\n",
       "    </tr>\n",
       "    <tr>\n",
       "      <th>2146</th>\n",
       "      <td>0.973333</td>\n",
       "      <td>16996</td>\n",
       "      <td>P38945</td>\n",
       "      <td>6.0</td>\n",
       "      <td>651.419297</td>\n",
       "      <td>39</td>\n",
       "      <td>0.0630</td>\n",
       "      <td>16.1656</td>\n",
       "      <td>0.1834</td>\n",
       "      <td>0.2739</td>\n",
       "      <td>...</td>\n",
       "      <td>0</td>\n",
       "      <td>0</td>\n",
       "      <td>0</td>\n",
       "      <td>0</td>\n",
       "      <td>0</td>\n",
       "      <td>0</td>\n",
       "      <td>0</td>\n",
       "      <td>0</td>\n",
       "      <td>0</td>\n",
       "      <td>78</td>\n",
       "    </tr>\n",
       "    <tr>\n",
       "      <th>3783</th>\n",
       "      <td>0.966667</td>\n",
       "      <td>52675</td>\n",
       "      <td>P401104</td>\n",
       "      <td>8.0</td>\n",
       "      <td>498.518309</td>\n",
       "      <td>133</td>\n",
       "      <td>0.1499</td>\n",
       "      <td>89.7236</td>\n",
       "      <td>0.5727</td>\n",
       "      <td>0.7748</td>\n",
       "      <td>...</td>\n",
       "      <td>0</td>\n",
       "      <td>0</td>\n",
       "      <td>0</td>\n",
       "      <td>0</td>\n",
       "      <td>0</td>\n",
       "      <td>0</td>\n",
       "      <td>0</td>\n",
       "      <td>0</td>\n",
       "      <td>0</td>\n",
       "      <td>2</td>\n",
       "    </tr>\n",
       "    <tr>\n",
       "      <th>22163</th>\n",
       "      <td>0.966667</td>\n",
       "      <td>17116</td>\n",
       "      <td>P36285</td>\n",
       "      <td>6.0</td>\n",
       "      <td>609.982437</td>\n",
       "      <td>84</td>\n",
       "      <td>0.0008</td>\n",
       "      <td>1.2515</td>\n",
       "      <td>0.0142</td>\n",
       "      <td>0.0161</td>\n",
       "      <td>...</td>\n",
       "      <td>0</td>\n",
       "      <td>0</td>\n",
       "      <td>0</td>\n",
       "      <td>0</td>\n",
       "      <td>0</td>\n",
       "      <td>0</td>\n",
       "      <td>0</td>\n",
       "      <td>0</td>\n",
       "      <td>0</td>\n",
       "      <td>66</td>\n",
       "    </tr>\n",
       "  </tbody>\n",
       "</table>\n",
       "<p>10 rows × 46 columns</p>\n",
       "</div>"
      ],
      "text/plain": [
       "       BurstChance    FID     MOID  DIAMETER  PIPE_LENGTH  ROUGHNESS  HL1000  \\\n",
       "1913      0.986667  10000   P29568       6.0   536.392085         39  0.1814   \n",
       "937       0.980000  33143    P6285      42.0   444.844718        130  0.0001   \n",
       "8218      0.980000  11319    P2446      36.0    57.899811        152  0.1054   \n",
       "919       0.976667    954  P103643      42.0   855.946881        130  0.0000   \n",
       "29050     0.973333  29112   P46120       6.0   583.595496         84  0.0013   \n",
       "928       0.973333  30911   P64867      42.0   713.707471        130  0.0003   \n",
       "941       0.973333  53174  P161395      42.0  1129.185635        130  0.0000   \n",
       "2146      0.973333  16996   P38945       6.0   651.419297         39  0.0630   \n",
       "3783      0.966667  52675  P401104       8.0   498.518309        133  0.1499   \n",
       "22163     0.966667  17116   P36285       6.0   609.982437         84  0.0008   \n",
       "\n",
       "        AVE_FLOW  AVE_VELOCITY  MAX_VELOCITY ...   MATERIAL_RCP  MATERIAL_SP  \\\n",
       "1913     18.4316        0.2091        0.2698 ...              0            0   \n",
       "937     173.7656        0.0402        0.0560 ...              0            0   \n",
       "8218   4053.0063        1.2775        1.6978 ...              0            0   \n",
       "919     173.7656        0.0402        0.0560 ...              0            0   \n",
       "29050     1.8730        0.0213        0.0251 ...              0            0   \n",
       "928     135.6322        0.0314        0.0835 ...              0            0   \n",
       "941       0.0000        0.0000        0.0000 ...              0            0   \n",
       "2146     16.1656        0.1834        0.2739 ...              0            0   \n",
       "3783     89.7236        0.5727        0.7748 ...              0            0   \n",
       "22163     1.2515        0.0142        0.0161 ...              0            0   \n",
       "\n",
       "       MATERIAL_ST  MATERIAL_T.D  MATERIAL_T.D.  MATERIAL_TTE  MATERIAL_TYT  \\\n",
       "1913             0             0              0             0             0   \n",
       "937              0             0              0             0             0   \n",
       "8218             0             0              0             0             0   \n",
       "919              0             0              0             0             0   \n",
       "29050            0             0              0             0             0   \n",
       "928              0             0              0             0             0   \n",
       "941              0             0              0             0             0   \n",
       "2146             0             0              0             0             0   \n",
       "3783             0             0              0             0             0   \n",
       "22163            0             0              0             0             0   \n",
       "\n",
       "       MATERIAL_UNK  MATERIAL_W.I.  Age  \n",
       "1913              0              0   82  \n",
       "937               0              0   60  \n",
       "8218              0              0   20  \n",
       "919               0              0   60  \n",
       "29050             0              0   61  \n",
       "928               0              0   60  \n",
       "941               0              0   60  \n",
       "2146              0              0   78  \n",
       "3783              0              0    2  \n",
       "22163             0              0   66  \n",
       "\n",
       "[10 rows x 46 columns]"
      ]
     },
     "execution_count": 22,
     "metadata": {},
     "output_type": "execute_result"
    }
   ],
   "source": [
    "#Output top ten most likely pipes to burst which are currently unbroken according to our model\n",
    "final_df[['BurstChance','FID','MOID'] + inputColumns].loc[final_df['FAILURE']==0].sort_values('BurstChance', ascending=False).head(10)"
   ]
  },
  {
   "cell_type": "code",
   "execution_count": 23,
   "metadata": {},
   "outputs": [
    {
     "name": "stdout",
     "output_type": "stream",
     "text": [
      "[(0.1273, 'PIPE_LENGTH'), (0.0799, 'AVE_HEAD'), (0.0732, 'DEMAND'), (0.0713, 'Age'), (0.0665, 'AVE_HEADLOSS'), (0.0623, 'AVE_PRESS'), (0.0593, 'AVE_FLOW'), (0.0583, 'MIN_VELOCITY'), (0.058, 'MAX_VELOCITY'), (0.0577, 'RUN_ELEV'), (0.0566, 'ELEVATION'), (0.0564, 'AVE_VELOCITY'), (0.053, 'HL1000'), (0.048, 'ROUGHNESS'), (0.0354, 'DIAMETER'), (0.0077, 'MATERIAL_T.D.'), (0.0059, 'MATERIAL_DIP'), (0.0056, 'MATERIAL_M.J.'), (0.0045, 'MATERIAL_TYT'), (0.0033, 'MATERIAL_DEL'), (0.0032, 'MATERIAL_L.J.'), (0.0022, 'MATERIAL_UNK'), (0.0013, 'MATERIAL_W.I.'), (0.0008, 'MATERIAL_CPP'), (0.0006, 'MATERIAL_CO'), (0.0006, 'MATERIAL_CI'), (0.0004, 'MATERIAL_ST'), (0.0003, 'MATERIAL_OTH'), (0.0, 'MATERIAL_TTE'), (0.0, 'MATERIAL_T.D'), (0.0, 'MATERIAL_SP'), (0.0, 'MATERIAL_RCP'), (0.0, 'MATERIAL_R.L.J.'), (0.0, 'MATERIAL_PVC'), (0.0, 'MATERIAL_PP'), (0.0, 'MATERIAL_PE'), (0.0, 'MATERIAL_MCW'), (0.0, 'MATERIAL_HDPE'), (0.0, 'MATERIAL_GP'), (0.0, 'MATERIAL_EARGEO'), (0.0, 'MATERIAL_Copper'), (0.0, 'MATERIAL_COP'), (0.0, 'MATERIAL_AMTYT')]\n"
     ]
    }
   ],
   "source": [
    "#Output most relevant parameters according to our recent model\n",
    "print(sorted(zip(map(lambda x: round(x, 4), rfmodel.feature_importances_), inputColumns), reverse=True))"
   ]
  },
  {
   "cell_type": "code",
   "execution_count": null,
   "metadata": {},
   "outputs": [],
   "source": []
  }
 ],
 "metadata": {
  "kernelspec": {
   "display_name": "Python [default]",
   "language": "python",
   "name": "python3"
  },
  "language_info": {
   "codemirror_mode": {
    "name": "ipython",
    "version": 3
   },
   "file_extension": ".py",
   "mimetype": "text/x-python",
   "name": "python",
   "nbconvert_exporter": "python",
   "pygments_lexer": "ipython3",
   "version": "3.6.5"
  }
 },
 "nbformat": 4,
 "nbformat_minor": 2
}
